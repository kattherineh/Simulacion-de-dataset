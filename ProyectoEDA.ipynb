{
 "cells": [
  {
   "cell_type": "markdown",
   "id": "sBU1QCPQZWOc",
   "metadata": {
    "id": "sBU1QCPQZWOc"
   },
   "source": [
    "# **Proyecto #1 - Curso de Teoría de la Simulación**\n",
    "Impartido por el Ing. Uayeb Cabayero   \n",
    "\n",
    "Elaborado por:\n",
    "* Jeimie Vanessa Herrera\n",
    "* Kattherine Mayely Hernandez  \n",
    "\n",
    "Presentado el 3 de abril del 2025\n",
    "\n",
    "**Objetivo**  \n",
    "Simular un nuevo dataset aplicando técnicas similares a las vistas en el notebook\n",
    "de referencia. Fortalecer habilidades en limpieza, expansión de datos y análisis\n",
    "exploratorio de datos (EDA) para extraer patrones valiosos tanto del dataset\n",
    "original como del expandido."
   ]
  },
  {
   "cell_type": "code",
   "execution_count": 155,
   "id": "eb2af137-526e-4e3d-a54a-568adf013068",
   "metadata": {
    "id": "eb2af137-526e-4e3d-a54a-568adf013068"
   },
   "outputs": [],
   "source": [
    "# Librerías\n",
    "import pandas as pd\n",
    "import numpy as np\n",
    "import matplotlib.pyplot as plt\n",
    "from scipy.stats import truncnorm\n",
    "from decimal import Decimal, getcontext"
   ]
  },
  {
   "cell_type": "code",
   "execution_count": 156,
   "id": "KHn1bQ1TaRI9",
   "metadata": {
    "colab": {
     "base_uri": "https://localhost:8080/"
    },
    "id": "KHn1bQ1TaRI9",
    "outputId": "09498337-92b9-4411-beac-136436a26ce8"
   },
   "outputs": [],
   "source": [
    "#from google.colab import drive\n",
    "\n",
    "#drive.mount('/content/drive')"
   ]
  },
  {
   "cell_type": "code",
   "execution_count": 157,
   "id": "bf2c0e82-405c-44b6-a787-8eec0e12a3df",
   "metadata": {
    "id": "bf2c0e82-405c-44b6-a787-8eec0e12a3df"
   },
   "outputs": [],
   "source": [
    "# df = pd.read_csv(\"/content/Food_Delivery_Times.csv\")"
   ]
  },
  {
   "cell_type": "code",
   "execution_count": 158,
   "id": "CmPFgz-JFD8Y",
   "metadata": {
    "id": "CmPFgz-JFD8Y"
   },
   "outputs": [],
   "source": [
    "df = pd.read_csv(\"Food_Delivery_Times.csv\")"
   ]
  },
  {
   "cell_type": "markdown",
   "id": "vRhQkujdZoGC",
   "metadata": {
    "id": "vRhQkujdZoGC"
   },
   "source": [
    "## 1. Dataset elegido: **Food Delivery Times**\n",
    "\n",
    "> Documentación referente al dataset en:  https://www.kaggle.com/datasets/denkuznetz/food-delivery-time-prediction\n",
    "\n",
    "Este dataset está diseñado para predecir los tiempos de entrega de alimentos en función de varios factores influyentes, como la distancia, el clima, las condiciones del tráfico y la hora del día.\n",
    "\n",
    "*Características principales:*\n",
    "\n",
    "* Order_ID: Identificador único para cada pedido.\n",
    "\n",
    "* Distance_km: La distancia de entrega en kilómetros.\n",
    "* Clima: Condiciones climáticas durante la entrega,\n",
    "incluyendo Despejado, Lluvioso, Nevado, Nublado y Ventoso.\n",
    "* Traffic_Level: Condiciones de tráfico         categorizadas como Baja, Media o Alta.\n",
    "* Time_of_Day: La hora en que se realizó la entrega, categorizada como Mañana, Tarde, Noche o Noche.\n",
    "* Vehicle_Type: Tipo de vehículo utilizado para la entrega, incluyendo bicicleta, scooter y coche.\n",
    "* Preparation_Time_min: El tiempo necesario para preparar el pedido, medido en minutos.\n",
    "* Courier_Experience_yrs: Experiencia del mensajero en años.\n",
    "* Delivery_Time_min: El tiempo total de entrega en minutos.\n",
    "\n",
    "\n",
    "\n",
    "\n",
    "\n",
    "\n",
    "\n",
    "\n",
    "\n",
    "\n",
    "\n",
    "\n",
    "\n",
    "\n",
    "\n",
    "\n",
    "\n",
    "\n",
    "\n"
   ]
  },
  {
   "cell_type": "code",
   "execution_count": 159,
   "id": "ab808ec1-3b44-4c15-9c54-961a01bc0ad2",
   "metadata": {
    "colab": {
     "base_uri": "https://localhost:8080/",
     "height": 132
    },
    "id": "ab808ec1-3b44-4c15-9c54-961a01bc0ad2",
    "outputId": "107047c8-9aeb-4957-d972-b98c57672229"
   },
   "outputs": [
    {
     "data": {
      "text/html": [
       "<div>\n",
       "<style scoped>\n",
       "    .dataframe tbody tr th:only-of-type {\n",
       "        vertical-align: middle;\n",
       "    }\n",
       "\n",
       "    .dataframe tbody tr th {\n",
       "        vertical-align: top;\n",
       "    }\n",
       "\n",
       "    .dataframe thead th {\n",
       "        text-align: right;\n",
       "    }\n",
       "</style>\n",
       "<table border=\"1\" class=\"dataframe\">\n",
       "  <thead>\n",
       "    <tr style=\"text-align: right;\">\n",
       "      <th></th>\n",
       "      <th>Order_ID</th>\n",
       "      <th>Distance_km</th>\n",
       "      <th>Weather</th>\n",
       "      <th>Traffic_Level</th>\n",
       "      <th>Time_of_Day</th>\n",
       "      <th>Vehicle_Type</th>\n",
       "      <th>Preparation_Time_min</th>\n",
       "      <th>Courier_Experience_yrs</th>\n",
       "      <th>Delivery_Time_min</th>\n",
       "    </tr>\n",
       "  </thead>\n",
       "  <tbody>\n",
       "    <tr>\n",
       "      <th>0</th>\n",
       "      <td>522</td>\n",
       "      <td>7.93</td>\n",
       "      <td>Windy</td>\n",
       "      <td>Low</td>\n",
       "      <td>Afternoon</td>\n",
       "      <td>Scooter</td>\n",
       "      <td>12</td>\n",
       "      <td>1.0</td>\n",
       "      <td>43</td>\n",
       "    </tr>\n",
       "    <tr>\n",
       "      <th>1</th>\n",
       "      <td>738</td>\n",
       "      <td>16.42</td>\n",
       "      <td>Clear</td>\n",
       "      <td>Medium</td>\n",
       "      <td>Evening</td>\n",
       "      <td>Bike</td>\n",
       "      <td>20</td>\n",
       "      <td>2.0</td>\n",
       "      <td>84</td>\n",
       "    </tr>\n",
       "  </tbody>\n",
       "</table>\n",
       "</div>"
      ],
      "text/plain": [
       "   Order_ID  Distance_km Weather Traffic_Level Time_of_Day Vehicle_Type  \\\n",
       "0       522         7.93   Windy           Low   Afternoon      Scooter   \n",
       "1       738        16.42   Clear        Medium     Evening         Bike   \n",
       "\n",
       "   Preparation_Time_min  Courier_Experience_yrs  Delivery_Time_min  \n",
       "0                    12                     1.0                 43  \n",
       "1                    20                     2.0                 84  "
      ]
     },
     "execution_count": 159,
     "metadata": {},
     "output_type": "execute_result"
    }
   ],
   "source": [
    "df.head(2)"
   ]
  },
  {
   "cell_type": "markdown",
   "id": "KsRzR_SeT482",
   "metadata": {
    "id": "KsRzR_SeT482"
   },
   "source": [
    "### Especificación de columnas categóricas y numéricas"
   ]
  },
  {
   "cell_type": "code",
   "execution_count": 160,
   "id": "fc2787c8-96d0-4f57-a133-4464c2b06e71",
   "metadata": {
    "colab": {
     "base_uri": "https://localhost:8080/",
     "height": 366
    },
    "id": "fc2787c8-96d0-4f57-a133-4464c2b06e71",
    "outputId": "23b06dd3-8449-4aa1-9187-590c402aead4"
   },
   "outputs": [
    {
     "data": {
      "text/plain": [
       "Order_ID                    int64\n",
       "Distance_km               float64\n",
       "Weather                    object\n",
       "Traffic_Level              object\n",
       "Time_of_Day                object\n",
       "Vehicle_Type               object\n",
       "Preparation_Time_min        int64\n",
       "Courier_Experience_yrs    float64\n",
       "Delivery_Time_min           int64\n",
       "dtype: object"
      ]
     },
     "execution_count": 160,
     "metadata": {},
     "output_type": "execute_result"
    }
   ],
   "source": [
    "df.dtypes"
   ]
  },
  {
   "cell_type": "markdown",
   "id": "OOqGZorkUPB3",
   "metadata": {
    "id": "OOqGZorkUPB3"
   },
   "source": [
    "Se cambia el nombre de las columnas para que sea más manejable a nivel de código."
   ]
  },
  {
   "cell_type": "code",
   "execution_count": 161,
   "id": "luggQ3Lpb7cz",
   "metadata": {
    "id": "luggQ3Lpb7cz"
   },
   "outputs": [],
   "source": [
    "df.columns = [\"order\" , \"distance\" , \"weather\", \"traffic_level\" , \"time_day\" , \"vehicle_type\" , \"preparation_time_min\", \"experience_years\", \"delivery_time_min\" ]\n",
    "df_initial = df"
   ]
  },
  {
   "cell_type": "code",
   "execution_count": 162,
   "id": "4e984ed8-cba7-4cd6-8b91-595799667846",
   "metadata": {
    "colab": {
     "base_uri": "https://localhost:8080/",
     "height": 132
    },
    "id": "4e984ed8-cba7-4cd6-8b91-595799667846",
    "outputId": "9f864129-5a92-447d-d68d-ac21e8ace18a"
   },
   "outputs": [
    {
     "data": {
      "text/html": [
       "<div>\n",
       "<style scoped>\n",
       "    .dataframe tbody tr th:only-of-type {\n",
       "        vertical-align: middle;\n",
       "    }\n",
       "\n",
       "    .dataframe tbody tr th {\n",
       "        vertical-align: top;\n",
       "    }\n",
       "\n",
       "    .dataframe thead th {\n",
       "        text-align: right;\n",
       "    }\n",
       "</style>\n",
       "<table border=\"1\" class=\"dataframe\">\n",
       "  <thead>\n",
       "    <tr style=\"text-align: right;\">\n",
       "      <th></th>\n",
       "      <th>order</th>\n",
       "      <th>distance</th>\n",
       "      <th>weather</th>\n",
       "      <th>traffic_level</th>\n",
       "      <th>time_day</th>\n",
       "      <th>vehicle_type</th>\n",
       "      <th>preparation_time_min</th>\n",
       "      <th>experience_years</th>\n",
       "      <th>delivery_time_min</th>\n",
       "    </tr>\n",
       "  </thead>\n",
       "  <tbody>\n",
       "    <tr>\n",
       "      <th>0</th>\n",
       "      <td>522</td>\n",
       "      <td>7.93</td>\n",
       "      <td>Windy</td>\n",
       "      <td>Low</td>\n",
       "      <td>Afternoon</td>\n",
       "      <td>Scooter</td>\n",
       "      <td>12</td>\n",
       "      <td>1.0</td>\n",
       "      <td>43</td>\n",
       "    </tr>\n",
       "    <tr>\n",
       "      <th>1</th>\n",
       "      <td>738</td>\n",
       "      <td>16.42</td>\n",
       "      <td>Clear</td>\n",
       "      <td>Medium</td>\n",
       "      <td>Evening</td>\n",
       "      <td>Bike</td>\n",
       "      <td>20</td>\n",
       "      <td>2.0</td>\n",
       "      <td>84</td>\n",
       "    </tr>\n",
       "  </tbody>\n",
       "</table>\n",
       "</div>"
      ],
      "text/plain": [
       "   order  distance weather traffic_level   time_day vehicle_type  \\\n",
       "0    522      7.93   Windy           Low  Afternoon      Scooter   \n",
       "1    738     16.42   Clear        Medium    Evening         Bike   \n",
       "\n",
       "   preparation_time_min  experience_years  delivery_time_min  \n",
       "0                    12               1.0                 43  \n",
       "1                    20               2.0                 84  "
      ]
     },
     "execution_count": 162,
     "metadata": {},
     "output_type": "execute_result"
    }
   ],
   "source": [
    "df.head(2)"
   ]
  },
  {
   "cell_type": "markdown",
   "id": "xvbKD_6oX2sc",
   "metadata": {
    "id": "xvbKD_6oX2sc"
   },
   "source": [
    "**Columnas categóricas**"
   ]
  },
  {
   "cell_type": "code",
   "execution_count": 163,
   "id": "6fb6c20f-6475-4287-a746-684a3b7c478a",
   "metadata": {
    "id": "6fb6c20f-6475-4287-a746-684a3b7c478a"
   },
   "outputs": [],
   "source": [
    "cat_cols = []\n",
    "\n",
    "for c in df.columns:\n",
    "    if df[c].dtypes == 'object' or df[c].dtypes.name == 'category':\n",
    "        cat_cols.append(c)"
   ]
  },
  {
   "cell_type": "code",
   "execution_count": 164,
   "id": "ba5832a9-9054-484d-93cb-282cbd8859e3",
   "metadata": {
    "colab": {
     "base_uri": "https://localhost:8080/"
    },
    "id": "ba5832a9-9054-484d-93cb-282cbd8859e3",
    "outputId": "1ba77fae-1769-4134-ccc9-397db613d2c9"
   },
   "outputs": [
    {
     "data": {
      "text/plain": [
       "['weather', 'traffic_level', 'time_day', 'vehicle_type']"
      ]
     },
     "execution_count": 164,
     "metadata": {},
     "output_type": "execute_result"
    }
   ],
   "source": [
    "cat_cols"
   ]
  },
  {
   "cell_type": "markdown",
   "id": "cH663uiXX-rt",
   "metadata": {
    "id": "cH663uiXX-rt"
   },
   "source": [
    "**Columnas numéricas**"
   ]
  },
  {
   "cell_type": "code",
   "execution_count": 165,
   "id": "da878744-6293-4494-8389-62cb8f63fe76",
   "metadata": {
    "id": "da878744-6293-4494-8389-62cb8f63fe76"
   },
   "outputs": [],
   "source": [
    "num_cols = []\n",
    "\n",
    "for c in df.columns:\n",
    "    if df[c].dtype != 'O':\n",
    "        num_cols.append(c)"
   ]
  },
  {
   "cell_type": "code",
   "execution_count": 166,
   "id": "cms6Nh6rYjkw",
   "metadata": {
    "colab": {
     "base_uri": "https://localhost:8080/"
    },
    "id": "cms6Nh6rYjkw",
    "outputId": "9fb438d5-e2fe-42df-a3d7-240cd98d2675"
   },
   "outputs": [
    {
     "name": "stdout",
     "output_type": "stream",
     "text": [
      "['order', 'distance', 'preparation_time_min', 'experience_years', 'delivery_time_min']\n"
     ]
    }
   ],
   "source": [
    "print(num_cols)"
   ]
  },
  {
   "cell_type": "markdown",
   "id": "vuZAbn-FBBGW",
   "metadata": {
    "id": "vuZAbn-FBBGW"
   },
   "source": [
    "---"
   ]
  },
  {
   "cell_type": "markdown",
   "id": "OQAHzYSYcsRK",
   "metadata": {
    "id": "OQAHzYSYcsRK"
   },
   "source": [
    "## 2. **Analísis Exploratorio de Datos** (EDA)"
   ]
  },
  {
   "cell_type": "markdown",
   "id": "dwGEtE5tr6HK",
   "metadata": {
    "id": "dwGEtE5tr6HK"
   },
   "source": [
    "### 2.1 Agrupamos la info para empezar a obtener los valores probabilisticos"
   ]
  },
  {
   "cell_type": "markdown",
   "id": "zuGY0OJ7cWXY",
   "metadata": {
    "id": "zuGY0OJ7cWXY"
   },
   "source": [
    "Obtenemos cuántas órdenes se comportan de una manera en específico dentro del dataset."
   ]
  },
  {
   "cell_type": "code",
   "execution_count": 167,
   "id": "8f30a0c3-24a4-4819-abd3-882cf02fc455",
   "metadata": {
    "id": "8f30a0c3-24a4-4819-abd3-882cf02fc455"
   },
   "outputs": [],
   "source": [
    "prob_freq = df.groupby (cat_cols , as_index=False).agg({\n",
    "    \"order\": [\"count\"]\n",
    "    })\n",
    "prob_freq.columns = cat_cols + [\"order\"]"
   ]
  },
  {
   "cell_type": "code",
   "execution_count": 168,
   "id": "86263158-efe4-4fb3-8c7f-364bdbb3ee8b",
   "metadata": {
    "colab": {
     "base_uri": "https://localhost:8080/",
     "height": 423
    },
    "id": "86263158-efe4-4fb3-8c7f-364bdbb3ee8b",
    "outputId": "468c3ad1-6c75-4574-fad1-b3b9c99481b7"
   },
   "outputs": [
    {
     "data": {
      "text/html": [
       "<div>\n",
       "<style scoped>\n",
       "    .dataframe tbody tr th:only-of-type {\n",
       "        vertical-align: middle;\n",
       "    }\n",
       "\n",
       "    .dataframe tbody tr th {\n",
       "        vertical-align: top;\n",
       "    }\n",
       "\n",
       "    .dataframe thead th {\n",
       "        text-align: right;\n",
       "    }\n",
       "</style>\n",
       "<table border=\"1\" class=\"dataframe\">\n",
       "  <thead>\n",
       "    <tr style=\"text-align: right;\">\n",
       "      <th></th>\n",
       "      <th>weather</th>\n",
       "      <th>traffic_level</th>\n",
       "      <th>time_day</th>\n",
       "      <th>vehicle_type</th>\n",
       "      <th>order</th>\n",
       "    </tr>\n",
       "  </thead>\n",
       "  <tbody>\n",
       "    <tr>\n",
       "      <th>0</th>\n",
       "      <td>Clear</td>\n",
       "      <td>High</td>\n",
       "      <td>Afternoon</td>\n",
       "      <td>Bike</td>\n",
       "      <td>11</td>\n",
       "    </tr>\n",
       "    <tr>\n",
       "      <th>1</th>\n",
       "      <td>Clear</td>\n",
       "      <td>High</td>\n",
       "      <td>Afternoon</td>\n",
       "      <td>Car</td>\n",
       "      <td>3</td>\n",
       "    </tr>\n",
       "    <tr>\n",
       "      <th>2</th>\n",
       "      <td>Clear</td>\n",
       "      <td>High</td>\n",
       "      <td>Afternoon</td>\n",
       "      <td>Scooter</td>\n",
       "      <td>8</td>\n",
       "    </tr>\n",
       "    <tr>\n",
       "      <th>3</th>\n",
       "      <td>Clear</td>\n",
       "      <td>High</td>\n",
       "      <td>Evening</td>\n",
       "      <td>Bike</td>\n",
       "      <td>10</td>\n",
       "    </tr>\n",
       "    <tr>\n",
       "      <th>4</th>\n",
       "      <td>Clear</td>\n",
       "      <td>High</td>\n",
       "      <td>Evening</td>\n",
       "      <td>Car</td>\n",
       "      <td>5</td>\n",
       "    </tr>\n",
       "    <tr>\n",
       "      <th>...</th>\n",
       "      <td>...</td>\n",
       "      <td>...</td>\n",
       "      <td>...</td>\n",
       "      <td>...</td>\n",
       "      <td>...</td>\n",
       "    </tr>\n",
       "    <tr>\n",
       "      <th>153</th>\n",
       "      <td>Windy</td>\n",
       "      <td>Medium</td>\n",
       "      <td>Evening</td>\n",
       "      <td>Scooter</td>\n",
       "      <td>2</td>\n",
       "    </tr>\n",
       "    <tr>\n",
       "      <th>154</th>\n",
       "      <td>Windy</td>\n",
       "      <td>Medium</td>\n",
       "      <td>Morning</td>\n",
       "      <td>Bike</td>\n",
       "      <td>11</td>\n",
       "    </tr>\n",
       "    <tr>\n",
       "      <th>155</th>\n",
       "      <td>Windy</td>\n",
       "      <td>Medium</td>\n",
       "      <td>Morning</td>\n",
       "      <td>Car</td>\n",
       "      <td>2</td>\n",
       "    </tr>\n",
       "    <tr>\n",
       "      <th>156</th>\n",
       "      <td>Windy</td>\n",
       "      <td>Medium</td>\n",
       "      <td>Morning</td>\n",
       "      <td>Scooter</td>\n",
       "      <td>5</td>\n",
       "    </tr>\n",
       "    <tr>\n",
       "      <th>157</th>\n",
       "      <td>Windy</td>\n",
       "      <td>Medium</td>\n",
       "      <td>Night</td>\n",
       "      <td>Bike</td>\n",
       "      <td>4</td>\n",
       "    </tr>\n",
       "  </tbody>\n",
       "</table>\n",
       "<p>158 rows × 5 columns</p>\n",
       "</div>"
      ],
      "text/plain": [
       "    weather traffic_level   time_day vehicle_type  order\n",
       "0     Clear          High  Afternoon         Bike     11\n",
       "1     Clear          High  Afternoon          Car      3\n",
       "2     Clear          High  Afternoon      Scooter      8\n",
       "3     Clear          High    Evening         Bike     10\n",
       "4     Clear          High    Evening          Car      5\n",
       "..      ...           ...        ...          ...    ...\n",
       "153   Windy        Medium    Evening      Scooter      2\n",
       "154   Windy        Medium    Morning         Bike     11\n",
       "155   Windy        Medium    Morning          Car      2\n",
       "156   Windy        Medium    Morning      Scooter      5\n",
       "157   Windy        Medium      Night         Bike      4\n",
       "\n",
       "[158 rows x 5 columns]"
      ]
     },
     "execution_count": 168,
     "metadata": {},
     "output_type": "execute_result"
    }
   ],
   "source": [
    "prob_freq"
   ]
  },
  {
   "cell_type": "markdown",
   "id": "6cDtlKjzch6U",
   "metadata": {
    "id": "6cDtlKjzch6U"
   },
   "source": [
    "Se identificaron 158 combinaciones únicas de valores en las columnas categóricas que se están utilizando para agrupar los datos. Cada combinación única de categorías forma un \"subgrupo\", y el número 158 refleja el total de estos grupos distintos."
   ]
  },
  {
   "cell_type": "markdown",
   "id": "LuxbO1eZfHQ0",
   "metadata": {
    "id": "LuxbO1eZfHQ0"
   },
   "source": [
    "### Frecuencia probabilística en función de las variables categóricas del dataset"
   ]
  },
  {
   "cell_type": "markdown",
   "id": "yy2VGkrFhIGU",
   "metadata": {
    "id": "yy2VGkrFhIGU"
   },
   "source": [
    "Actualizamos prb_freq para que en lugar de almacenar la cantidad de incidencias, contenga el porcentaje de aparición de estas."
   ]
  },
  {
   "cell_type": "code",
   "execution_count": 169,
   "id": "uUPTyWlfg9IB",
   "metadata": {
    "colab": {
     "base_uri": "https://localhost:8080/",
     "height": 206
    },
    "id": "uUPTyWlfg9IB",
    "outputId": "bfe3c6b5-8161-45fc-9a0f-701ec6819d12"
   },
   "outputs": [
    {
     "data": {
      "text/html": [
       "<div>\n",
       "<style scoped>\n",
       "    .dataframe tbody tr th:only-of-type {\n",
       "        vertical-align: middle;\n",
       "    }\n",
       "\n",
       "    .dataframe tbody tr th {\n",
       "        vertical-align: top;\n",
       "    }\n",
       "\n",
       "    .dataframe thead th {\n",
       "        text-align: right;\n",
       "    }\n",
       "</style>\n",
       "<table border=\"1\" class=\"dataframe\">\n",
       "  <thead>\n",
       "    <tr style=\"text-align: right;\">\n",
       "      <th></th>\n",
       "      <th>weather</th>\n",
       "      <th>traffic_level</th>\n",
       "      <th>time_day</th>\n",
       "      <th>vehicle_type</th>\n",
       "      <th>order</th>\n",
       "    </tr>\n",
       "  </thead>\n",
       "  <tbody>\n",
       "    <tr>\n",
       "      <th>0</th>\n",
       "      <td>Clear</td>\n",
       "      <td>High</td>\n",
       "      <td>Afternoon</td>\n",
       "      <td>Bike</td>\n",
       "      <td>0.011</td>\n",
       "    </tr>\n",
       "    <tr>\n",
       "      <th>1</th>\n",
       "      <td>Clear</td>\n",
       "      <td>High</td>\n",
       "      <td>Afternoon</td>\n",
       "      <td>Car</td>\n",
       "      <td>0.003</td>\n",
       "    </tr>\n",
       "    <tr>\n",
       "      <th>2</th>\n",
       "      <td>Clear</td>\n",
       "      <td>High</td>\n",
       "      <td>Afternoon</td>\n",
       "      <td>Scooter</td>\n",
       "      <td>0.008</td>\n",
       "    </tr>\n",
       "    <tr>\n",
       "      <th>3</th>\n",
       "      <td>Clear</td>\n",
       "      <td>High</td>\n",
       "      <td>Evening</td>\n",
       "      <td>Bike</td>\n",
       "      <td>0.010</td>\n",
       "    </tr>\n",
       "    <tr>\n",
       "      <th>4</th>\n",
       "      <td>Clear</td>\n",
       "      <td>High</td>\n",
       "      <td>Evening</td>\n",
       "      <td>Car</td>\n",
       "      <td>0.005</td>\n",
       "    </tr>\n",
       "  </tbody>\n",
       "</table>\n",
       "</div>"
      ],
      "text/plain": [
       "  weather traffic_level   time_day vehicle_type  order\n",
       "0   Clear          High  Afternoon         Bike  0.011\n",
       "1   Clear          High  Afternoon          Car  0.003\n",
       "2   Clear          High  Afternoon      Scooter  0.008\n",
       "3   Clear          High    Evening         Bike  0.010\n",
       "4   Clear          High    Evening          Car  0.005"
      ]
     },
     "execution_count": 169,
     "metadata": {},
     "output_type": "execute_result"
    }
   ],
   "source": [
    "prob_freq[\"order\"] = prob_freq[\"order\"] / df.shape[0]\n",
    "prob_freq.head(5)"
   ]
  },
  {
   "cell_type": "code",
   "execution_count": 170,
   "id": "a4p_yeqXcipY",
   "metadata": {
    "colab": {
     "base_uri": "https://localhost:8080/"
    },
    "id": "a4p_yeqXcipY",
    "outputId": "96cf5480-fd19-41bf-bf86-f1b892d54945"
   },
   "outputs": [
    {
     "data": {
      "text/plain": [
       "0.000912"
      ]
     },
     "execution_count": 170,
     "metadata": {},
     "output_type": "execute_result"
    }
   ],
   "source": [
    "\n",
    "np.sum (prob_freq[\"order\"] / df.shape[0])"
   ]
  },
  {
   "cell_type": "markdown",
   "id": "As6FZdMErPbt",
   "metadata": {
    "id": "As6FZdMErPbt"
   },
   "source": [
    "La suma de todas las probabilidades es 0.9120000000000001\n",
    "> Se considera bueno porque es cercano a 1."
   ]
  },
  {
   "cell_type": "markdown",
   "id": "lPDm1ejen6BN",
   "metadata": {
    "id": "lPDm1ejen6BN"
   },
   "source": [
    "### 2.2 Limpieza de valores NaN"
   ]
  },
  {
   "cell_type": "markdown",
   "id": "rFWA0bCGn9U6",
   "metadata": {
    "id": "rFWA0bCGn9U6"
   },
   "source": [
    "Se identifican algunos registros con valores NaN, lo cual puede afectar nuestro análisis. Se hará una limpieza de los mismos."
   ]
  },
  {
   "cell_type": "code",
   "execution_count": 171,
   "id": "7hXJQs7goLtm",
   "metadata": {
    "colab": {
     "base_uri": "https://localhost:8080/",
     "height": 101
    },
    "id": "7hXJQs7goLtm",
    "outputId": "66779430-6499-4f04-a9b2-d5bda66554d9"
   },
   "outputs": [
    {
     "data": {
      "text/html": [
       "<div>\n",
       "<style scoped>\n",
       "    .dataframe tbody tr th:only-of-type {\n",
       "        vertical-align: middle;\n",
       "    }\n",
       "\n",
       "    .dataframe tbody tr th {\n",
       "        vertical-align: top;\n",
       "    }\n",
       "\n",
       "    .dataframe thead th {\n",
       "        text-align: right;\n",
       "    }\n",
       "</style>\n",
       "<table border=\"1\" class=\"dataframe\">\n",
       "  <thead>\n",
       "    <tr style=\"text-align: right;\">\n",
       "      <th></th>\n",
       "      <th>order</th>\n",
       "      <th>distance</th>\n",
       "      <th>weather</th>\n",
       "      <th>traffic_level</th>\n",
       "      <th>time_day</th>\n",
       "      <th>vehicle_type</th>\n",
       "      <th>preparation_time_min</th>\n",
       "      <th>experience_years</th>\n",
       "      <th>delivery_time_min</th>\n",
       "    </tr>\n",
       "  </thead>\n",
       "  <tbody>\n",
       "    <tr>\n",
       "      <th>379</th>\n",
       "      <td>814</td>\n",
       "      <td>18.46</td>\n",
       "      <td>Clear</td>\n",
       "      <td>NaN</td>\n",
       "      <td>NaN</td>\n",
       "      <td>Scooter</td>\n",
       "      <td>29</td>\n",
       "      <td>1.0</td>\n",
       "      <td>153</td>\n",
       "    </tr>\n",
       "  </tbody>\n",
       "</table>\n",
       "</div>"
      ],
      "text/plain": [
       "     order  distance weather traffic_level time_day vehicle_type  \\\n",
       "379    814     18.46   Clear           NaN      NaN      Scooter   \n",
       "\n",
       "     preparation_time_min  experience_years  delivery_time_min  \n",
       "379                    29               1.0                153  "
      ]
     },
     "execution_count": 171,
     "metadata": {},
     "output_type": "execute_result"
    }
   ],
   "source": [
    "\n",
    "# Este es un caso\n",
    "df.loc[df[\"order\"] == 814]"
   ]
  },
  {
   "cell_type": "markdown",
   "id": "Kt_C-XLhfQUZ",
   "metadata": {
    "id": "Kt_C-XLhfQUZ"
   },
   "source": [
    "Encontrar registros con valores NaN o null"
   ]
  },
  {
   "cell_type": "code",
   "execution_count": 172,
   "id": "as_H9goRfTKz",
   "metadata": {
    "colab": {
     "base_uri": "https://localhost:8080/",
     "height": 443
    },
    "id": "as_H9goRfTKz",
    "outputId": "215c0b16-900c-481b-c062-ae8a1f103cfc"
   },
   "outputs": [
    {
     "data": {
      "text/html": [
       "<div>\n",
       "<style scoped>\n",
       "    .dataframe tbody tr th:only-of-type {\n",
       "        vertical-align: middle;\n",
       "    }\n",
       "\n",
       "    .dataframe tbody tr th {\n",
       "        vertical-align: top;\n",
       "    }\n",
       "\n",
       "    .dataframe thead th {\n",
       "        text-align: right;\n",
       "    }\n",
       "</style>\n",
       "<table border=\"1\" class=\"dataframe\">\n",
       "  <thead>\n",
       "    <tr style=\"text-align: right;\">\n",
       "      <th></th>\n",
       "      <th>order</th>\n",
       "      <th>distance</th>\n",
       "      <th>weather</th>\n",
       "      <th>traffic_level</th>\n",
       "      <th>time_day</th>\n",
       "      <th>vehicle_type</th>\n",
       "      <th>preparation_time_min</th>\n",
       "      <th>experience_years</th>\n",
       "      <th>delivery_time_min</th>\n",
       "    </tr>\n",
       "  </thead>\n",
       "  <tbody>\n",
       "    <tr>\n",
       "      <th>6</th>\n",
       "      <td>627</td>\n",
       "      <td>9.52</td>\n",
       "      <td>Clear</td>\n",
       "      <td>Low</td>\n",
       "      <td>NaN</td>\n",
       "      <td>Bike</td>\n",
       "      <td>12</td>\n",
       "      <td>1.0</td>\n",
       "      <td>49</td>\n",
       "    </tr>\n",
       "    <tr>\n",
       "      <th>14</th>\n",
       "      <td>939</td>\n",
       "      <td>2.80</td>\n",
       "      <td>Clear</td>\n",
       "      <td>High</td>\n",
       "      <td>Morning</td>\n",
       "      <td>Scooter</td>\n",
       "      <td>10</td>\n",
       "      <td>NaN</td>\n",
       "      <td>33</td>\n",
       "    </tr>\n",
       "    <tr>\n",
       "      <th>24</th>\n",
       "      <td>211</td>\n",
       "      <td>11.20</td>\n",
       "      <td>Clear</td>\n",
       "      <td>Medium</td>\n",
       "      <td>Morning</td>\n",
       "      <td>Bike</td>\n",
       "      <td>23</td>\n",
       "      <td>NaN</td>\n",
       "      <td>73</td>\n",
       "    </tr>\n",
       "    <tr>\n",
       "      <th>42</th>\n",
       "      <td>313</td>\n",
       "      <td>0.99</td>\n",
       "      <td>NaN</td>\n",
       "      <td>Medium</td>\n",
       "      <td>Evening</td>\n",
       "      <td>Bike</td>\n",
       "      <td>15</td>\n",
       "      <td>NaN</td>\n",
       "      <td>32</td>\n",
       "    </tr>\n",
       "    <tr>\n",
       "      <th>71</th>\n",
       "      <td>494</td>\n",
       "      <td>4.17</td>\n",
       "      <td>NaN</td>\n",
       "      <td>Low</td>\n",
       "      <td>Evening</td>\n",
       "      <td>Scooter</td>\n",
       "      <td>5</td>\n",
       "      <td>1.0</td>\n",
       "      <td>22</td>\n",
       "    </tr>\n",
       "    <tr>\n",
       "      <th>...</th>\n",
       "      <td>...</td>\n",
       "      <td>...</td>\n",
       "      <td>...</td>\n",
       "      <td>...</td>\n",
       "      <td>...</td>\n",
       "      <td>...</td>\n",
       "      <td>...</td>\n",
       "      <td>...</td>\n",
       "      <td>...</td>\n",
       "    </tr>\n",
       "    <tr>\n",
       "      <th>974</th>\n",
       "      <td>414</td>\n",
       "      <td>11.68</td>\n",
       "      <td>Clear</td>\n",
       "      <td>NaN</td>\n",
       "      <td>Afternoon</td>\n",
       "      <td>Scooter</td>\n",
       "      <td>25</td>\n",
       "      <td>7.0</td>\n",
       "      <td>70</td>\n",
       "    </tr>\n",
       "    <tr>\n",
       "      <th>976</th>\n",
       "      <td>344</td>\n",
       "      <td>8.96</td>\n",
       "      <td>Snowy</td>\n",
       "      <td>NaN</td>\n",
       "      <td>Morning</td>\n",
       "      <td>Car</td>\n",
       "      <td>6</td>\n",
       "      <td>5.0</td>\n",
       "      <td>51</td>\n",
       "    </tr>\n",
       "    <tr>\n",
       "      <th>987</th>\n",
       "      <td>331</td>\n",
       "      <td>7.44</td>\n",
       "      <td>Rainy</td>\n",
       "      <td>Low</td>\n",
       "      <td>Evening</td>\n",
       "      <td>Bike</td>\n",
       "      <td>27</td>\n",
       "      <td>NaN</td>\n",
       "      <td>53</td>\n",
       "    </tr>\n",
       "    <tr>\n",
       "      <th>988</th>\n",
       "      <td>215</td>\n",
       "      <td>14.39</td>\n",
       "      <td>Rainy</td>\n",
       "      <td>Medium</td>\n",
       "      <td>Morning</td>\n",
       "      <td>Scooter</td>\n",
       "      <td>6</td>\n",
       "      <td>NaN</td>\n",
       "      <td>50</td>\n",
       "    </tr>\n",
       "    <tr>\n",
       "      <th>989</th>\n",
       "      <td>467</td>\n",
       "      <td>6.07</td>\n",
       "      <td>NaN</td>\n",
       "      <td>Low</td>\n",
       "      <td>Afternoon</td>\n",
       "      <td>Bike</td>\n",
       "      <td>18</td>\n",
       "      <td>4.0</td>\n",
       "      <td>35</td>\n",
       "    </tr>\n",
       "  </tbody>\n",
       "</table>\n",
       "<p>117 rows × 9 columns</p>\n",
       "</div>"
      ],
      "text/plain": [
       "     order  distance weather traffic_level   time_day vehicle_type  \\\n",
       "6      627      9.52   Clear           Low        NaN         Bike   \n",
       "14     939      2.80   Clear          High    Morning      Scooter   \n",
       "24     211     11.20   Clear        Medium    Morning         Bike   \n",
       "42     313      0.99     NaN        Medium    Evening         Bike   \n",
       "71     494      4.17     NaN           Low    Evening      Scooter   \n",
       "..     ...       ...     ...           ...        ...          ...   \n",
       "974    414     11.68   Clear           NaN  Afternoon      Scooter   \n",
       "976    344      8.96   Snowy           NaN    Morning          Car   \n",
       "987    331      7.44   Rainy           Low    Evening         Bike   \n",
       "988    215     14.39   Rainy        Medium    Morning      Scooter   \n",
       "989    467      6.07     NaN           Low  Afternoon         Bike   \n",
       "\n",
       "     preparation_time_min  experience_years  delivery_time_min  \n",
       "6                      12               1.0                 49  \n",
       "14                     10               NaN                 33  \n",
       "24                     23               NaN                 73  \n",
       "42                     15               NaN                 32  \n",
       "71                      5               1.0                 22  \n",
       "..                    ...               ...                ...  \n",
       "974                    25               7.0                 70  \n",
       "976                     6               5.0                 51  \n",
       "987                    27               NaN                 53  \n",
       "988                     6               NaN                 50  \n",
       "989                    18               4.0                 35  \n",
       "\n",
       "[117 rows x 9 columns]"
      ]
     },
     "execution_count": 172,
     "metadata": {},
     "output_type": "execute_result"
    }
   ],
   "source": [
    "# Encontrar registros con valores NaN en cualquier columna\n",
    "registros_sucios = df[df.isna().any(axis=1) | df.isnull().any(axis=1) ]\n",
    "\n",
    "# Mostrar las filas que tienen al menos un valor NaN\n",
    "registros_sucios\n"
   ]
  },
  {
   "cell_type": "markdown",
   "id": "US1H95oYgVgb",
   "metadata": {
    "id": "US1H95oYgVgb"
   },
   "source": [
    "117 registros que contienen valores NaN"
   ]
  },
  {
   "cell_type": "markdown",
   "id": "TGVo0RVLhAVK",
   "metadata": {
    "id": "TGVo0RVLhAVK"
   },
   "source": [
    "Eliminar los registros con valores sucios."
   ]
  },
  {
   "cell_type": "code",
   "execution_count": 173,
   "id": "qr9ugkkChI6Z",
   "metadata": {
    "colab": {
     "base_uri": "https://localhost:8080/"
    },
    "id": "qr9ugkkChI6Z",
    "outputId": "c2281f42-f129-44cc-c23b-354e8006fa47"
   },
   "outputs": [
    {
     "name": "stdout",
     "output_type": "stream",
     "text": [
      "Hay 1000 registros previo a primera limpieza.\n",
      "Limpiando nulos...\n",
      "Hay 883 registros luego de primera limpieza.\n"
     ]
    }
   ],
   "source": [
    "print(f\"Hay {df.shape[0]} registros previo a primera limpieza.\")\n",
    "\n",
    "df = df.dropna()\n",
    "print(\"Limpiando nulos...\")\n",
    "\n",
    "print(f\"Hay {df.shape[0]} registros luego de primera limpieza.\")"
   ]
  },
  {
   "cell_type": "markdown",
   "id": "JbmA4IvGusJO",
   "metadata": {
    "id": "JbmA4IvGusJO"
   },
   "source": [
    "### 2.3 Limpieza de outliers\n"
   ]
  },
  {
   "cell_type": "markdown",
   "id": "kSLYocH9mtwE",
   "metadata": {
    "id": "kSLYocH9mtwE"
   },
   "source": [
    "Código correspondiente para hacer algunas pruebas manuales y encontrar outliers"
   ]
  },
  {
   "cell_type": "code",
   "execution_count": 174,
   "id": "IxnJCauilnu4",
   "metadata": {
    "colab": {
     "base_uri": "https://localhost:8080/",
     "height": 81
    },
    "id": "IxnJCauilnu4",
    "outputId": "662982c0-c722-4c5c-dea2-b9c2c785dbc4"
   },
   "outputs": [
    {
     "data": {
      "text/html": [
       "<div>\n",
       "<style scoped>\n",
       "    .dataframe tbody tr th:only-of-type {\n",
       "        vertical-align: middle;\n",
       "    }\n",
       "\n",
       "    .dataframe tbody tr th {\n",
       "        vertical-align: top;\n",
       "    }\n",
       "\n",
       "    .dataframe thead th {\n",
       "        text-align: right;\n",
       "    }\n",
       "</style>\n",
       "<table border=\"1\" class=\"dataframe\">\n",
       "  <thead>\n",
       "    <tr style=\"text-align: right;\">\n",
       "      <th></th>\n",
       "      <th>order</th>\n",
       "      <th>delivery_time_min</th>\n",
       "    </tr>\n",
       "  </thead>\n",
       "  <tbody>\n",
       "    <tr>\n",
       "      <th>127</th>\n",
       "      <td>446</td>\n",
       "      <td>141</td>\n",
       "    </tr>\n",
       "  </tbody>\n",
       "</table>\n",
       "</div>"
      ],
      "text/plain": [
       "     order  delivery_time_min\n",
       "127    446                141"
      ]
     },
     "execution_count": 174,
     "metadata": {},
     "output_type": "execute_result"
    }
   ],
   "source": [
    "# Filtrar\n",
    "ordenes_con_tiempo_0 = df[df['delivery_time_min'] > 130]\n",
    "\n",
    "# Mostrar\n",
    "ordenes_con_tiempo_0[['order', 'delivery_time_min']]"
   ]
  },
  {
   "cell_type": "markdown",
   "id": "X1wzoS4vjvGj",
   "metadata": {
    "id": "X1wzoS4vjvGj"
   },
   "source": [
    "Vemos este, tiene 123 minutos de tiempo de entrega.\n",
    "\n"
   ]
  },
  {
   "cell_type": "code",
   "execution_count": 175,
   "id": "ucYBlAi3i30X",
   "metadata": {
    "colab": {
     "base_uri": "https://localhost:8080/",
     "height": 101
    },
    "id": "ucYBlAi3i30X",
    "outputId": "63217192-8404-469c-d555-db76c339ca1d"
   },
   "outputs": [
    {
     "data": {
      "text/html": [
       "<div>\n",
       "<style scoped>\n",
       "    .dataframe tbody tr th:only-of-type {\n",
       "        vertical-align: middle;\n",
       "    }\n",
       "\n",
       "    .dataframe tbody tr th {\n",
       "        vertical-align: top;\n",
       "    }\n",
       "\n",
       "    .dataframe thead th {\n",
       "        text-align: right;\n",
       "    }\n",
       "</style>\n",
       "<table border=\"1\" class=\"dataframe\">\n",
       "  <thead>\n",
       "    <tr style=\"text-align: right;\">\n",
       "      <th></th>\n",
       "      <th>order</th>\n",
       "      <th>distance</th>\n",
       "      <th>weather</th>\n",
       "      <th>traffic_level</th>\n",
       "      <th>time_day</th>\n",
       "      <th>vehicle_type</th>\n",
       "      <th>preparation_time_min</th>\n",
       "      <th>experience_years</th>\n",
       "      <th>delivery_time_min</th>\n",
       "    </tr>\n",
       "  </thead>\n",
       "  <tbody>\n",
       "    <tr>\n",
       "      <th>29</th>\n",
       "      <td>948</td>\n",
       "      <td>18.05</td>\n",
       "      <td>Clear</td>\n",
       "      <td>Medium</td>\n",
       "      <td>Evening</td>\n",
       "      <td>Scooter</td>\n",
       "      <td>10</td>\n",
       "      <td>7.0</td>\n",
       "      <td>123</td>\n",
       "    </tr>\n",
       "  </tbody>\n",
       "</table>\n",
       "</div>"
      ],
      "text/plain": [
       "    order  distance weather traffic_level time_day vehicle_type  \\\n",
       "29    948     18.05   Clear        Medium  Evening      Scooter   \n",
       "\n",
       "    preparation_time_min  experience_years  delivery_time_min  \n",
       "29                    10               7.0                123  "
      ]
     },
     "execution_count": 175,
     "metadata": {},
     "output_type": "execute_result"
    }
   ],
   "source": [
    "df.loc[df[\"order\"] == 948]"
   ]
  },
  {
   "cell_type": "code",
   "execution_count": 176,
   "id": "sQpAq704sMXg",
   "metadata": {
    "colab": {
     "base_uri": "https://localhost:8080/",
     "height": 430
    },
    "id": "sQpAq704sMXg",
    "outputId": "c34d4550-4710-4f77-a117-51c146cb4369"
   },
   "outputs": [
    {
     "data": {
      "image/png": "[encoded data removed]",
      "text/plain": [
       "<Figure size 640x480 with 1 Axes>"
      ]
     },
     "metadata": {},
     "output_type": "display_data"
    }
   ],
   "source": [
    "df.loc[\n",
    "    (df[\"weather\"] == \"Clear\") &\n",
    "    (df[\"traffic_level\"] == \"Medium\") &\n",
    "    (df[\"time_day\"] == \"Evening\"\t),\n",
    "    [\"delivery_time_min\"]\n",
    "].boxplot()\n",
    "\n",
    "plt.show()\n"
   ]
  },
  {
   "cell_type": "markdown",
   "id": "pQSbdekKkP-9",
   "metadata": {
    "id": "pQSbdekKkP-9"
   },
   "source": [
    "*delivery_time_min* tiene outliers superiores para este subset específico."
   ]
  },
  {
   "cell_type": "markdown",
   "id": "GRsfywjXkbRs",
   "metadata": {
    "id": "GRsfywjXkbRs"
   },
   "source": [
    "El siguiente es un caso cuyo tiempo de entrega de la orden es 141."
   ]
  },
  {
   "cell_type": "code",
   "execution_count": 177,
   "id": "Up2UOZxZsrvQ",
   "metadata": {
    "colab": {
     "base_uri": "https://localhost:8080/",
     "height": 101
    },
    "id": "Up2UOZxZsrvQ",
    "outputId": "e8403f71-866a-450b-c35d-1fedfb95584a"
   },
   "outputs": [
    {
     "data": {
      "text/html": [
       "<div>\n",
       "<style scoped>\n",
       "    .dataframe tbody tr th:only-of-type {\n",
       "        vertical-align: middle;\n",
       "    }\n",
       "\n",
       "    .dataframe tbody tr th {\n",
       "        vertical-align: top;\n",
       "    }\n",
       "\n",
       "    .dataframe thead th {\n",
       "        text-align: right;\n",
       "    }\n",
       "</style>\n",
       "<table border=\"1\" class=\"dataframe\">\n",
       "  <thead>\n",
       "    <tr style=\"text-align: right;\">\n",
       "      <th></th>\n",
       "      <th>order</th>\n",
       "      <th>distance</th>\n",
       "      <th>weather</th>\n",
       "      <th>traffic_level</th>\n",
       "      <th>time_day</th>\n",
       "      <th>vehicle_type</th>\n",
       "      <th>preparation_time_min</th>\n",
       "      <th>experience_years</th>\n",
       "      <th>delivery_time_min</th>\n",
       "    </tr>\n",
       "  </thead>\n",
       "  <tbody>\n",
       "    <tr>\n",
       "      <th>127</th>\n",
       "      <td>446</td>\n",
       "      <td>18.97</td>\n",
       "      <td>Clear</td>\n",
       "      <td>Low</td>\n",
       "      <td>Evening</td>\n",
       "      <td>Car</td>\n",
       "      <td>25</td>\n",
       "      <td>4.0</td>\n",
       "      <td>141</td>\n",
       "    </tr>\n",
       "  </tbody>\n",
       "</table>\n",
       "</div>"
      ],
      "text/plain": [
       "     order  distance weather traffic_level time_day vehicle_type  \\\n",
       "127    446     18.97   Clear           Low  Evening          Car   \n",
       "\n",
       "     preparation_time_min  experience_years  delivery_time_min  \n",
       "127                    25               4.0                141  "
      ]
     },
     "execution_count": 177,
     "metadata": {},
     "output_type": "execute_result"
    }
   ],
   "source": [
    "df.loc[df[\"order\"] == 446]"
   ]
  },
  {
   "cell_type": "code",
   "execution_count": 178,
   "id": "UAQf9IYbkrux",
   "metadata": {
    "colab": {
     "base_uri": "https://localhost:8080/",
     "height": 430
    },
    "id": "UAQf9IYbkrux",
    "outputId": "886ee1a1-56c6-4a1b-8fcd-7ff03d747ce3"
   },
   "outputs": [
    {
     "data": {
      "image/png": "[encoded data removed]",
      "text/plain": [
       "<Figure size 640x480 with 1 Axes>"
      ]
     },
     "metadata": {},
     "output_type": "display_data"
    }
   ],
   "source": [
    "df.loc[\n",
    "    (df[\"weather\"] == \"Clear\") &\n",
    "    (df[\"traffic_level\"] == \"Low\") &\n",
    "    (df[\"time_day\"] == \"Evening\"\t),\n",
    "    [\"delivery_time_min\"]\n",
    "].boxplot()\n",
    "\n",
    "plt.show()"
   ]
  },
  {
   "cell_type": "markdown",
   "id": "PKoGatnvo1Kk",
   "metadata": {
    "id": "PKoGatnvo1Kk"
   },
   "source": [
    "Identificamos que sí hay outliers. Procedemos con su limpieza."
   ]
  },
  {
   "cell_type": "code",
   "execution_count": 179,
   "id": "Vy4fN2yx6RzG",
   "metadata": {
    "colab": {
     "base_uri": "https://localhost:8080/",
     "height": 383
    },
    "id": "Vy4fN2yx6RzG",
    "outputId": "1b09dbd8-c83d-4cf3-86ce-e28d29296c85"
   },
   "outputs": [
    {
     "data": {
      "text/html": [
       "<div>\n",
       "<style scoped>\n",
       "    .dataframe tbody tr th:only-of-type {\n",
       "        vertical-align: middle;\n",
       "    }\n",
       "\n",
       "    .dataframe tbody tr th {\n",
       "        vertical-align: top;\n",
       "    }\n",
       "\n",
       "    .dataframe thead th {\n",
       "        text-align: right;\n",
       "    }\n",
       "</style>\n",
       "<table border=\"1\" class=\"dataframe\">\n",
       "  <thead>\n",
       "    <tr style=\"text-align: right;\">\n",
       "      <th></th>\n",
       "      <th>weather</th>\n",
       "      <th>traffic_level</th>\n",
       "      <th>time_day</th>\n",
       "      <th>vehicle_type</th>\n",
       "      <th>order_lower_bound</th>\n",
       "      <th>order_upper_bound</th>\n",
       "      <th>distance_lower_bound</th>\n",
       "      <th>distance_upper_bound</th>\n",
       "      <th>preparation_time_min_lower_bound</th>\n",
       "      <th>preparation_time_min_upper_bound</th>\n",
       "      <th>experience_years_lower_bound</th>\n",
       "      <th>experience_years_upper_bound</th>\n",
       "      <th>delivery_time_min_lower_bound</th>\n",
       "      <th>delivery_time_min_upper_bound</th>\n",
       "    </tr>\n",
       "  </thead>\n",
       "  <tbody>\n",
       "    <tr>\n",
       "      <th>0</th>\n",
       "      <td>Clear</td>\n",
       "      <td>High</td>\n",
       "      <td>Afternoon</td>\n",
       "      <td>Bike</td>\n",
       "      <td>-215.250</td>\n",
       "      <td>1362.750</td>\n",
       "      <td>-14.19500</td>\n",
       "      <td>31.04500</td>\n",
       "      <td>-2.750</td>\n",
       "      <td>35.250</td>\n",
       "      <td>-8.250</td>\n",
       "      <td>17.750</td>\n",
       "      <td>-8.000</td>\n",
       "      <td>112.000</td>\n",
       "    </tr>\n",
       "    <tr>\n",
       "      <th>1</th>\n",
       "      <td>Clear</td>\n",
       "      <td>High</td>\n",
       "      <td>Afternoon</td>\n",
       "      <td>Car</td>\n",
       "      <td>-1.000</td>\n",
       "      <td>1363.000</td>\n",
       "      <td>8.67000</td>\n",
       "      <td>12.59000</td>\n",
       "      <td>-4.500</td>\n",
       "      <td>31.500</td>\n",
       "      <td>-4.000</td>\n",
       "      <td>12.000</td>\n",
       "      <td>53.500</td>\n",
       "      <td>61.500</td>\n",
       "    </tr>\n",
       "    <tr>\n",
       "      <th>2</th>\n",
       "      <td>Clear</td>\n",
       "      <td>High</td>\n",
       "      <td>Afternoon</td>\n",
       "      <td>Scooter</td>\n",
       "      <td>164.250</td>\n",
       "      <td>1194.250</td>\n",
       "      <td>0.39875</td>\n",
       "      <td>20.56875</td>\n",
       "      <td>-3.750</td>\n",
       "      <td>34.250</td>\n",
       "      <td>-3.125</td>\n",
       "      <td>9.875</td>\n",
       "      <td>24.125</td>\n",
       "      <td>93.125</td>\n",
       "    </tr>\n",
       "    <tr>\n",
       "      <th>3</th>\n",
       "      <td>Clear</td>\n",
       "      <td>High</td>\n",
       "      <td>Evening</td>\n",
       "      <td>Bike</td>\n",
       "      <td>26.250</td>\n",
       "      <td>1112.250</td>\n",
       "      <td>-10.10875</td>\n",
       "      <td>25.66125</td>\n",
       "      <td>-13.375</td>\n",
       "      <td>49.625</td>\n",
       "      <td>0.000</td>\n",
       "      <td>8.000</td>\n",
       "      <td>12.875</td>\n",
       "      <td>101.875</td>\n",
       "    </tr>\n",
       "    <tr>\n",
       "      <th>4</th>\n",
       "      <td>Clear</td>\n",
       "      <td>High</td>\n",
       "      <td>Evening</td>\n",
       "      <td>Car</td>\n",
       "      <td>-40.000</td>\n",
       "      <td>936.000</td>\n",
       "      <td>0.61500</td>\n",
       "      <td>18.41500</td>\n",
       "      <td>-5.500</td>\n",
       "      <td>38.500</td>\n",
       "      <td>-6.000</td>\n",
       "      <td>18.000</td>\n",
       "      <td>51.000</td>\n",
       "      <td>59.000</td>\n",
       "    </tr>\n",
       "    <tr>\n",
       "      <th>5</th>\n",
       "      <td>Clear</td>\n",
       "      <td>High</td>\n",
       "      <td>Evening</td>\n",
       "      <td>Scooter</td>\n",
       "      <td>-304.000</td>\n",
       "      <td>1072.000</td>\n",
       "      <td>4.67000</td>\n",
       "      <td>13.95000</td>\n",
       "      <td>5.500</td>\n",
       "      <td>17.500</td>\n",
       "      <td>-3.000</td>\n",
       "      <td>13.000</td>\n",
       "      <td>22.500</td>\n",
       "      <td>74.500</td>\n",
       "    </tr>\n",
       "    <tr>\n",
       "      <th>6</th>\n",
       "      <td>Clear</td>\n",
       "      <td>High</td>\n",
       "      <td>Morning</td>\n",
       "      <td>Bike</td>\n",
       "      <td>-204.000</td>\n",
       "      <td>1430.000</td>\n",
       "      <td>-2.56000</td>\n",
       "      <td>21.82000</td>\n",
       "      <td>-16.500</td>\n",
       "      <td>51.500</td>\n",
       "      <td>-0.625</td>\n",
       "      <td>10.375</td>\n",
       "      <td>14.750</td>\n",
       "      <td>96.750</td>\n",
       "    </tr>\n",
       "    <tr>\n",
       "      <th>7</th>\n",
       "      <td>Clear</td>\n",
       "      <td>High</td>\n",
       "      <td>Morning</td>\n",
       "      <td>Car</td>\n",
       "      <td>-589.125</td>\n",
       "      <td>1799.875</td>\n",
       "      <td>2.68125</td>\n",
       "      <td>23.47125</td>\n",
       "      <td>3.875</td>\n",
       "      <td>38.875</td>\n",
       "      <td>-0.875</td>\n",
       "      <td>10.125</td>\n",
       "      <td>37.500</td>\n",
       "      <td>89.500</td>\n",
       "    </tr>\n",
       "    <tr>\n",
       "      <th>8</th>\n",
       "      <td>Clear</td>\n",
       "      <td>High</td>\n",
       "      <td>Morning</td>\n",
       "      <td>Scooter</td>\n",
       "      <td>-780.375</td>\n",
       "      <td>1656.625</td>\n",
       "      <td>-7.33250</td>\n",
       "      <td>25.66750</td>\n",
       "      <td>-3.000</td>\n",
       "      <td>37.000</td>\n",
       "      <td>-6.250</td>\n",
       "      <td>15.750</td>\n",
       "      <td>-0.625</td>\n",
       "      <td>112.375</td>\n",
       "    </tr>\n",
       "    <tr>\n",
       "      <th>9</th>\n",
       "      <td>Clear</td>\n",
       "      <td>High</td>\n",
       "      <td>Night</td>\n",
       "      <td>Bike</td>\n",
       "      <td>-39.375</td>\n",
       "      <td>1393.625</td>\n",
       "      <td>-1.75000</td>\n",
       "      <td>19.05000</td>\n",
       "      <td>4.500</td>\n",
       "      <td>18.500</td>\n",
       "      <td>1.875</td>\n",
       "      <td>6.875</td>\n",
       "      <td>-8.500</td>\n",
       "      <td>111.500</td>\n",
       "    </tr>\n",
       "  </tbody>\n",
       "</table>\n",
       "</div>"
      ],
      "text/plain": [
       "  weather traffic_level   time_day vehicle_type  order_lower_bound  \\\n",
       "0   Clear          High  Afternoon         Bike           -215.250   \n",
       "1   Clear          High  Afternoon          Car             -1.000   \n",
       "2   Clear          High  Afternoon      Scooter            164.250   \n",
       "3   Clear          High    Evening         Bike             26.250   \n",
       "4   Clear          High    Evening          Car            -40.000   \n",
       "5   Clear          High    Evening      Scooter           -304.000   \n",
       "6   Clear          High    Morning         Bike           -204.000   \n",
       "7   Clear          High    Morning          Car           -589.125   \n",
       "8   Clear          High    Morning      Scooter           -780.375   \n",
       "9   Clear          High      Night         Bike            -39.375   \n",
       "\n",
       "   order_upper_bound  distance_lower_bound  distance_upper_bound  \\\n",
       "0           1362.750             -14.19500              31.04500   \n",
       "1           1363.000               8.67000              12.59000   \n",
       "2           1194.250               0.39875              20.56875   \n",
       "3           1112.250             -10.10875              25.66125   \n",
       "4            936.000               0.61500              18.41500   \n",
       "5           1072.000               4.67000              13.95000   \n",
       "6           1430.000              -2.56000              21.82000   \n",
       "7           1799.875               2.68125              23.47125   \n",
       "8           1656.625              -7.33250              25.66750   \n",
       "9           1393.625              -1.75000              19.05000   \n",
       "\n",
       "   preparation_time_min_lower_bound  preparation_time_min_upper_bound  \\\n",
       "0                            -2.750                            35.250   \n",
       "1                            -4.500                            31.500   \n",
       "2                            -3.750                            34.250   \n",
       "3                           -13.375                            49.625   \n",
       "4                            -5.500                            38.500   \n",
       "5                             5.500                            17.500   \n",
       "6                           -16.500                            51.500   \n",
       "7                             3.875                            38.875   \n",
       "8                            -3.000                            37.000   \n",
       "9                             4.500                            18.500   \n",
       "\n",
       "   experience_years_lower_bound  experience_years_upper_bound  \\\n",
       "0                        -8.250                        17.750   \n",
       "1                        -4.000                        12.000   \n",
       "2                        -3.125                         9.875   \n",
       "3                         0.000                         8.000   \n",
       "4                        -6.000                        18.000   \n",
       "5                        -3.000                        13.000   \n",
       "6                        -0.625                        10.375   \n",
       "7                        -0.875                        10.125   \n",
       "8                        -6.250                        15.750   \n",
       "9                         1.875                         6.875   \n",
       "\n",
       "   delivery_time_min_lower_bound  delivery_time_min_upper_bound  \n",
       "0                         -8.000                        112.000  \n",
       "1                         53.500                         61.500  \n",
       "2                         24.125                         93.125  \n",
       "3                         12.875                        101.875  \n",
       "4                         51.000                         59.000  \n",
       "5                         22.500                         74.500  \n",
       "6                         14.750                         96.750  \n",
       "7                         37.500                         89.500  \n",
       "8                         -0.625                        112.375  \n",
       "9                         -8.500                        111.500  "
      ]
     },
     "execution_count": 179,
     "metadata": {},
     "output_type": "execute_result"
    }
   ],
   "source": [
    "transformations = {}\n",
    "new_cols = []\n",
    "\n",
    "for c in num_cols:\n",
    "    transformations[c] = [\n",
    "            ( 'lower_bound' , lambda x: x.quantile(.25) - 1.5*(x.quantile(.75) - x.quantile(.25))  )\n",
    "            , ( 'upper_bound' , lambda x: x.quantile(.75) + 1.5*(x.quantile(.75) - x.quantile(.25))  )\n",
    "    ]\n",
    "    new_cols.append( f\"{c}_lower_bound\" )\n",
    "    new_cols.append( f\"{c}_upper_bound\" )\n",
    "\n",
    "transformations\n",
    "\n",
    "df_resultados = df.groupby( cat_cols , as_index=False ).agg(transformations)\n",
    "df_resultados.columns =  cat_cols + new_cols\n",
    "df_resultados.head(10)"
   ]
  },
  {
   "cell_type": "code",
   "execution_count": 180,
   "id": "izHUZ2VL66Ft",
   "metadata": {
    "colab": {
     "base_uri": "https://localhost:8080/",
     "height": 443
    },
    "id": "izHUZ2VL66Ft",
    "outputId": "ba9c1784-3633-4ab1-f745-42588090e5b3"
   },
   "outputs": [
    {
     "data": {
      "text/html": [
       "<div>\n",
       "<style scoped>\n",
       "    .dataframe tbody tr th:only-of-type {\n",
       "        vertical-align: middle;\n",
       "    }\n",
       "\n",
       "    .dataframe tbody tr th {\n",
       "        vertical-align: top;\n",
       "    }\n",
       "\n",
       "    .dataframe thead th {\n",
       "        text-align: right;\n",
       "    }\n",
       "</style>\n",
       "<table border=\"1\" class=\"dataframe\">\n",
       "  <thead>\n",
       "    <tr style=\"text-align: right;\">\n",
       "      <th></th>\n",
       "      <th>order</th>\n",
       "      <th>distance</th>\n",
       "      <th>weather</th>\n",
       "      <th>traffic_level</th>\n",
       "      <th>time_day</th>\n",
       "      <th>vehicle_type</th>\n",
       "      <th>preparation_time_min</th>\n",
       "      <th>experience_years</th>\n",
       "      <th>delivery_time_min</th>\n",
       "      <th>order_lower_bound</th>\n",
       "      <th>order_upper_bound</th>\n",
       "      <th>distance_lower_bound</th>\n",
       "      <th>distance_upper_bound</th>\n",
       "      <th>preparation_time_min_lower_bound</th>\n",
       "      <th>preparation_time_min_upper_bound</th>\n",
       "      <th>experience_years_lower_bound</th>\n",
       "      <th>experience_years_upper_bound</th>\n",
       "      <th>delivery_time_min_lower_bound</th>\n",
       "      <th>delivery_time_min_upper_bound</th>\n",
       "    </tr>\n",
       "  </thead>\n",
       "  <tbody>\n",
       "    <tr>\n",
       "      <th>0</th>\n",
       "      <td>522</td>\n",
       "      <td>7.93</td>\n",
       "      <td>Windy</td>\n",
       "      <td>Low</td>\n",
       "      <td>Afternoon</td>\n",
       "      <td>Scooter</td>\n",
       "      <td>12</td>\n",
       "      <td>1.0</td>\n",
       "      <td>43</td>\n",
       "      <td>522.000</td>\n",
       "      <td>522.000</td>\n",
       "      <td>7.9300</td>\n",
       "      <td>7.9300</td>\n",
       "      <td>12.000</td>\n",
       "      <td>12.000</td>\n",
       "      <td>1.000</td>\n",
       "      <td>1.000</td>\n",
       "      <td>43.000</td>\n",
       "      <td>43.000</td>\n",
       "    </tr>\n",
       "    <tr>\n",
       "      <th>1</th>\n",
       "      <td>738</td>\n",
       "      <td>16.42</td>\n",
       "      <td>Clear</td>\n",
       "      <td>Medium</td>\n",
       "      <td>Evening</td>\n",
       "      <td>Bike</td>\n",
       "      <td>20</td>\n",
       "      <td>2.0</td>\n",
       "      <td>84</td>\n",
       "      <td>-441.875</td>\n",
       "      <td>1379.125</td>\n",
       "      <td>-9.7625</td>\n",
       "      <td>28.2575</td>\n",
       "      <td>-8.375</td>\n",
       "      <td>40.625</td>\n",
       "      <td>-5.000</td>\n",
       "      <td>11.000</td>\n",
       "      <td>0.500</td>\n",
       "      <td>102.500</td>\n",
       "    </tr>\n",
       "    <tr>\n",
       "      <th>2</th>\n",
       "      <td>741</td>\n",
       "      <td>9.52</td>\n",
       "      <td>Foggy</td>\n",
       "      <td>Low</td>\n",
       "      <td>Night</td>\n",
       "      <td>Scooter</td>\n",
       "      <td>28</td>\n",
       "      <td>1.0</td>\n",
       "      <td>59</td>\n",
       "      <td>-216.000</td>\n",
       "      <td>1060.000</td>\n",
       "      <td>5.1850</td>\n",
       "      <td>10.9650</td>\n",
       "      <td>22.000</td>\n",
       "      <td>30.000</td>\n",
       "      <td>0.000</td>\n",
       "      <td>4.000</td>\n",
       "      <td>57.500</td>\n",
       "      <td>59.500</td>\n",
       "    </tr>\n",
       "    <tr>\n",
       "      <th>3</th>\n",
       "      <td>661</td>\n",
       "      <td>7.44</td>\n",
       "      <td>Rainy</td>\n",
       "      <td>Medium</td>\n",
       "      <td>Afternoon</td>\n",
       "      <td>Scooter</td>\n",
       "      <td>5</td>\n",
       "      <td>1.0</td>\n",
       "      <td>37</td>\n",
       "      <td>-20.500</td>\n",
       "      <td>1077.500</td>\n",
       "      <td>-4.9950</td>\n",
       "      <td>25.5650</td>\n",
       "      <td>-12.625</td>\n",
       "      <td>44.375</td>\n",
       "      <td>-2.375</td>\n",
       "      <td>8.625</td>\n",
       "      <td>-21.125</td>\n",
       "      <td>141.875</td>\n",
       "    </tr>\n",
       "    <tr>\n",
       "      <th>4</th>\n",
       "      <td>412</td>\n",
       "      <td>19.03</td>\n",
       "      <td>Clear</td>\n",
       "      <td>Low</td>\n",
       "      <td>Morning</td>\n",
       "      <td>Bike</td>\n",
       "      <td>16</td>\n",
       "      <td>5.0</td>\n",
       "      <td>68</td>\n",
       "      <td>-331.000</td>\n",
       "      <td>1165.000</td>\n",
       "      <td>-11.7650</td>\n",
       "      <td>28.8350</td>\n",
       "      <td>3.500</td>\n",
       "      <td>31.500</td>\n",
       "      <td>-4.000</td>\n",
       "      <td>12.000</td>\n",
       "      <td>-19.000</td>\n",
       "      <td>117.000</td>\n",
       "    </tr>\n",
       "    <tr>\n",
       "      <th>...</th>\n",
       "      <td>...</td>\n",
       "      <td>...</td>\n",
       "      <td>...</td>\n",
       "      <td>...</td>\n",
       "      <td>...</td>\n",
       "      <td>...</td>\n",
       "      <td>...</td>\n",
       "      <td>...</td>\n",
       "      <td>...</td>\n",
       "      <td>...</td>\n",
       "      <td>...</td>\n",
       "      <td>...</td>\n",
       "      <td>...</td>\n",
       "      <td>...</td>\n",
       "      <td>...</td>\n",
       "      <td>...</td>\n",
       "      <td>...</td>\n",
       "      <td>...</td>\n",
       "      <td>...</td>\n",
       "    </tr>\n",
       "    <tr>\n",
       "      <th>878</th>\n",
       "      <td>107</td>\n",
       "      <td>8.50</td>\n",
       "      <td>Clear</td>\n",
       "      <td>High</td>\n",
       "      <td>Evening</td>\n",
       "      <td>Car</td>\n",
       "      <td>13</td>\n",
       "      <td>3.0</td>\n",
       "      <td>54</td>\n",
       "      <td>-40.000</td>\n",
       "      <td>936.000</td>\n",
       "      <td>0.6150</td>\n",
       "      <td>18.4150</td>\n",
       "      <td>-5.500</td>\n",
       "      <td>38.500</td>\n",
       "      <td>-6.000</td>\n",
       "      <td>18.000</td>\n",
       "      <td>51.000</td>\n",
       "      <td>59.000</td>\n",
       "    </tr>\n",
       "    <tr>\n",
       "      <th>879</th>\n",
       "      <td>271</td>\n",
       "      <td>16.28</td>\n",
       "      <td>Rainy</td>\n",
       "      <td>Low</td>\n",
       "      <td>Morning</td>\n",
       "      <td>Scooter</td>\n",
       "      <td>8</td>\n",
       "      <td>9.0</td>\n",
       "      <td>71</td>\n",
       "      <td>-60.500</td>\n",
       "      <td>863.500</td>\n",
       "      <td>-11.1450</td>\n",
       "      <td>24.2550</td>\n",
       "      <td>5.000</td>\n",
       "      <td>13.000</td>\n",
       "      <td>3.000</td>\n",
       "      <td>11.000</td>\n",
       "      <td>0.000</td>\n",
       "      <td>88.000</td>\n",
       "    </tr>\n",
       "    <tr>\n",
       "      <th>880</th>\n",
       "      <td>861</td>\n",
       "      <td>15.62</td>\n",
       "      <td>Snowy</td>\n",
       "      <td>High</td>\n",
       "      <td>Evening</td>\n",
       "      <td>Scooter</td>\n",
       "      <td>26</td>\n",
       "      <td>2.0</td>\n",
       "      <td>81</td>\n",
       "      <td>796.500</td>\n",
       "      <td>1054.500</td>\n",
       "      <td>15.1950</td>\n",
       "      <td>16.8950</td>\n",
       "      <td>17.000</td>\n",
       "      <td>29.000</td>\n",
       "      <td>-1.500</td>\n",
       "      <td>12.500</td>\n",
       "      <td>72.000</td>\n",
       "      <td>84.000</td>\n",
       "    </tr>\n",
       "    <tr>\n",
       "      <th>881</th>\n",
       "      <td>436</td>\n",
       "      <td>14.17</td>\n",
       "      <td>Clear</td>\n",
       "      <td>Low</td>\n",
       "      <td>Afternoon</td>\n",
       "      <td>Bike</td>\n",
       "      <td>8</td>\n",
       "      <td>0.0</td>\n",
       "      <td>55</td>\n",
       "      <td>-554.000</td>\n",
       "      <td>1582.000</td>\n",
       "      <td>-10.4650</td>\n",
       "      <td>25.8950</td>\n",
       "      <td>-5.000</td>\n",
       "      <td>43.000</td>\n",
       "      <td>-8.000</td>\n",
       "      <td>16.000</td>\n",
       "      <td>-24.500</td>\n",
       "      <td>115.500</td>\n",
       "    </tr>\n",
       "    <tr>\n",
       "      <th>882</th>\n",
       "      <td>103</td>\n",
       "      <td>6.63</td>\n",
       "      <td>Foggy</td>\n",
       "      <td>Low</td>\n",
       "      <td>Night</td>\n",
       "      <td>Scooter</td>\n",
       "      <td>24</td>\n",
       "      <td>3.0</td>\n",
       "      <td>58</td>\n",
       "      <td>-216.000</td>\n",
       "      <td>1060.000</td>\n",
       "      <td>5.1850</td>\n",
       "      <td>10.9650</td>\n",
       "      <td>22.000</td>\n",
       "      <td>30.000</td>\n",
       "      <td>0.000</td>\n",
       "      <td>4.000</td>\n",
       "      <td>57.500</td>\n",
       "      <td>59.500</td>\n",
       "    </tr>\n",
       "  </tbody>\n",
       "</table>\n",
       "<p>883 rows × 19 columns</p>\n",
       "</div>"
      ],
      "text/plain": [
       "     order  distance weather traffic_level   time_day vehicle_type  \\\n",
       "0      522      7.93   Windy           Low  Afternoon      Scooter   \n",
       "1      738     16.42   Clear        Medium    Evening         Bike   \n",
       "2      741      9.52   Foggy           Low      Night      Scooter   \n",
       "3      661      7.44   Rainy        Medium  Afternoon      Scooter   \n",
       "4      412     19.03   Clear           Low    Morning         Bike   \n",
       "..     ...       ...     ...           ...        ...          ...   \n",
       "878    107      8.50   Clear          High    Evening          Car   \n",
       "879    271     16.28   Rainy           Low    Morning      Scooter   \n",
       "880    861     15.62   Snowy          High    Evening      Scooter   \n",
       "881    436     14.17   Clear           Low  Afternoon         Bike   \n",
       "882    103      6.63   Foggy           Low      Night      Scooter   \n",
       "\n",
       "     preparation_time_min  experience_years  delivery_time_min  \\\n",
       "0                      12               1.0                 43   \n",
       "1                      20               2.0                 84   \n",
       "2                      28               1.0                 59   \n",
       "3                       5               1.0                 37   \n",
       "4                      16               5.0                 68   \n",
       "..                    ...               ...                ...   \n",
       "878                    13               3.0                 54   \n",
       "879                     8               9.0                 71   \n",
       "880                    26               2.0                 81   \n",
       "881                     8               0.0                 55   \n",
       "882                    24               3.0                 58   \n",
       "\n",
       "     order_lower_bound  order_upper_bound  distance_lower_bound  \\\n",
       "0              522.000            522.000                7.9300   \n",
       "1             -441.875           1379.125               -9.7625   \n",
       "2             -216.000           1060.000                5.1850   \n",
       "3              -20.500           1077.500               -4.9950   \n",
       "4             -331.000           1165.000              -11.7650   \n",
       "..                 ...                ...                   ...   \n",
       "878            -40.000            936.000                0.6150   \n",
       "879            -60.500            863.500              -11.1450   \n",
       "880            796.500           1054.500               15.1950   \n",
       "881           -554.000           1582.000              -10.4650   \n",
       "882           -216.000           1060.000                5.1850   \n",
       "\n",
       "     distance_upper_bound  preparation_time_min_lower_bound  \\\n",
       "0                  7.9300                            12.000   \n",
       "1                 28.2575                            -8.375   \n",
       "2                 10.9650                            22.000   \n",
       "3                 25.5650                           -12.625   \n",
       "4                 28.8350                             3.500   \n",
       "..                    ...                               ...   \n",
       "878               18.4150                            -5.500   \n",
       "879               24.2550                             5.000   \n",
       "880               16.8950                            17.000   \n",
       "881               25.8950                            -5.000   \n",
       "882               10.9650                            22.000   \n",
       "\n",
       "     preparation_time_min_upper_bound  experience_years_lower_bound  \\\n",
       "0                              12.000                         1.000   \n",
       "1                              40.625                        -5.000   \n",
       "2                              30.000                         0.000   \n",
       "3                              44.375                        -2.375   \n",
       "4                              31.500                        -4.000   \n",
       "..                                ...                           ...   \n",
       "878                            38.500                        -6.000   \n",
       "879                            13.000                         3.000   \n",
       "880                            29.000                        -1.500   \n",
       "881                            43.000                        -8.000   \n",
       "882                            30.000                         0.000   \n",
       "\n",
       "     experience_years_upper_bound  delivery_time_min_lower_bound  \\\n",
       "0                           1.000                         43.000   \n",
       "1                          11.000                          0.500   \n",
       "2                           4.000                         57.500   \n",
       "3                           8.625                        -21.125   \n",
       "4                          12.000                        -19.000   \n",
       "..                            ...                            ...   \n",
       "878                        18.000                         51.000   \n",
       "879                        11.000                          0.000   \n",
       "880                        12.500                         72.000   \n",
       "881                        16.000                        -24.500   \n",
       "882                         4.000                         57.500   \n",
       "\n",
       "     delivery_time_min_upper_bound  \n",
       "0                           43.000  \n",
       "1                          102.500  \n",
       "2                           59.500  \n",
       "3                          141.875  \n",
       "4                          117.000  \n",
       "..                             ...  \n",
       "878                         59.000  \n",
       "879                         88.000  \n",
       "880                         84.000  \n",
       "881                        115.500  \n",
       "882                         59.500  \n",
       "\n",
       "[883 rows x 19 columns]"
      ]
     },
     "execution_count": 180,
     "metadata": {},
     "output_type": "execute_result"
    }
   ],
   "source": [
    "\n",
    "df_bound = df.merge(\n",
    "    df_resultados\n",
    "    , on=cat_cols\n",
    "    , how=\"inner\"\n",
    ")\n",
    "\n",
    "df_bound"
   ]
  },
  {
   "cell_type": "code",
   "execution_count": 181,
   "id": "43T9gA9t-oE9",
   "metadata": {
    "colab": {
     "base_uri": "https://localhost:8080/",
     "height": 101
    },
    "id": "43T9gA9t-oE9",
    "outputId": "4543bead-d655-4c20-a594-4e38fd9f3b6a"
   },
   "outputs": [
    {
     "data": {
      "text/html": [
       "<div>\n",
       "<style scoped>\n",
       "    .dataframe tbody tr th:only-of-type {\n",
       "        vertical-align: middle;\n",
       "    }\n",
       "\n",
       "    .dataframe tbody tr th {\n",
       "        vertical-align: top;\n",
       "    }\n",
       "\n",
       "    .dataframe thead th {\n",
       "        text-align: right;\n",
       "    }\n",
       "</style>\n",
       "<table border=\"1\" class=\"dataframe\">\n",
       "  <thead>\n",
       "    <tr style=\"text-align: right;\">\n",
       "      <th></th>\n",
       "      <th>order</th>\n",
       "      <th>distance</th>\n",
       "      <th>weather</th>\n",
       "      <th>traffic_level</th>\n",
       "      <th>time_day</th>\n",
       "      <th>vehicle_type</th>\n",
       "      <th>preparation_time_min</th>\n",
       "      <th>experience_years</th>\n",
       "      <th>delivery_time_min</th>\n",
       "      <th>order_lower_bound</th>\n",
       "      <th>order_upper_bound</th>\n",
       "      <th>distance_lower_bound</th>\n",
       "      <th>distance_upper_bound</th>\n",
       "      <th>preparation_time_min_lower_bound</th>\n",
       "      <th>preparation_time_min_upper_bound</th>\n",
       "      <th>experience_years_lower_bound</th>\n",
       "      <th>experience_years_upper_bound</th>\n",
       "      <th>delivery_time_min_lower_bound</th>\n",
       "      <th>delivery_time_min_upper_bound</th>\n",
       "    </tr>\n",
       "  </thead>\n",
       "  <tbody>\n",
       "    <tr>\n",
       "      <th>116</th>\n",
       "      <td>446</td>\n",
       "      <td>18.97</td>\n",
       "      <td>Clear</td>\n",
       "      <td>Low</td>\n",
       "      <td>Evening</td>\n",
       "      <td>Car</td>\n",
       "      <td>25</td>\n",
       "      <td>4.0</td>\n",
       "      <td>141</td>\n",
       "      <td>-506.5</td>\n",
       "      <td>1017.5</td>\n",
       "      <td>-3.05</td>\n",
       "      <td>21.03</td>\n",
       "      <td>17.5</td>\n",
       "      <td>29.5</td>\n",
       "      <td>-8.0</td>\n",
       "      <td>16.0</td>\n",
       "      <td>-25.0</td>\n",
       "      <td>135.0</td>\n",
       "    </tr>\n",
       "  </tbody>\n",
       "</table>\n",
       "</div>"
      ],
      "text/plain": [
       "     order  distance weather traffic_level time_day vehicle_type  \\\n",
       "116    446     18.97   Clear           Low  Evening          Car   \n",
       "\n",
       "     preparation_time_min  experience_years  delivery_time_min  \\\n",
       "116                    25               4.0                141   \n",
       "\n",
       "     order_lower_bound  order_upper_bound  distance_lower_bound  \\\n",
       "116             -506.5             1017.5                 -3.05   \n",
       "\n",
       "     distance_upper_bound  preparation_time_min_lower_bound  \\\n",
       "116                 21.03                              17.5   \n",
       "\n",
       "     preparation_time_min_upper_bound  experience_years_lower_bound  \\\n",
       "116                              29.5                          -8.0   \n",
       "\n",
       "     experience_years_upper_bound  delivery_time_min_lower_bound  \\\n",
       "116                          16.0                          -25.0   \n",
       "\n",
       "     delivery_time_min_upper_bound  \n",
       "116                          135.0  "
      ]
     },
     "execution_count": 181,
     "metadata": {},
     "output_type": "execute_result"
    }
   ],
   "source": [
    "df_bound.loc[df_bound[\"order\"] == 446]"
   ]
  },
  {
   "cell_type": "code",
   "execution_count": 182,
   "id": "i9JyMmyR-s6_",
   "metadata": {
    "colab": {
     "base_uri": "https://localhost:8080/",
     "height": 101
    },
    "id": "i9JyMmyR-s6_",
    "outputId": "a53b9c24-3ecf-473c-e87b-995520c58566"
   },
   "outputs": [
    {
     "data": {
      "text/html": [
       "<div>\n",
       "<style scoped>\n",
       "    .dataframe tbody tr th:only-of-type {\n",
       "        vertical-align: middle;\n",
       "    }\n",
       "\n",
       "    .dataframe tbody tr th {\n",
       "        vertical-align: top;\n",
       "    }\n",
       "\n",
       "    .dataframe thead th {\n",
       "        text-align: right;\n",
       "    }\n",
       "</style>\n",
       "<table border=\"1\" class=\"dataframe\">\n",
       "  <thead>\n",
       "    <tr style=\"text-align: right;\">\n",
       "      <th></th>\n",
       "      <th>order</th>\n",
       "      <th>distance</th>\n",
       "      <th>weather</th>\n",
       "      <th>traffic_level</th>\n",
       "      <th>time_day</th>\n",
       "      <th>vehicle_type</th>\n",
       "      <th>preparation_time_min</th>\n",
       "      <th>experience_years</th>\n",
       "      <th>delivery_time_min</th>\n",
       "      <th>order_lower_bound</th>\n",
       "      <th>order_upper_bound</th>\n",
       "      <th>distance_lower_bound</th>\n",
       "      <th>distance_upper_bound</th>\n",
       "      <th>preparation_time_min_lower_bound</th>\n",
       "      <th>preparation_time_min_upper_bound</th>\n",
       "      <th>experience_years_lower_bound</th>\n",
       "      <th>experience_years_upper_bound</th>\n",
       "      <th>delivery_time_min_lower_bound</th>\n",
       "      <th>delivery_time_min_upper_bound</th>\n",
       "    </tr>\n",
       "  </thead>\n",
       "  <tbody>\n",
       "    <tr>\n",
       "      <th>116</th>\n",
       "      <td>446</td>\n",
       "      <td>18.97</td>\n",
       "      <td>Clear</td>\n",
       "      <td>Low</td>\n",
       "      <td>Evening</td>\n",
       "      <td>Car</td>\n",
       "      <td>25</td>\n",
       "      <td>4.0</td>\n",
       "      <td>141</td>\n",
       "      <td>-506.5</td>\n",
       "      <td>1017.5</td>\n",
       "      <td>-3.05</td>\n",
       "      <td>21.03</td>\n",
       "      <td>17.5</td>\n",
       "      <td>29.5</td>\n",
       "      <td>-8.0</td>\n",
       "      <td>16.0</td>\n",
       "      <td>-25.0</td>\n",
       "      <td>135.0</td>\n",
       "    </tr>\n",
       "  </tbody>\n",
       "</table>\n",
       "</div>"
      ],
      "text/plain": [
       "     order  distance weather traffic_level time_day vehicle_type  \\\n",
       "116    446     18.97   Clear           Low  Evening          Car   \n",
       "\n",
       "     preparation_time_min  experience_years  delivery_time_min  \\\n",
       "116                    25               4.0                141   \n",
       "\n",
       "     order_lower_bound  order_upper_bound  distance_lower_bound  \\\n",
       "116             -506.5             1017.5                 -3.05   \n",
       "\n",
       "     distance_upper_bound  preparation_time_min_lower_bound  \\\n",
       "116                 21.03                              17.5   \n",
       "\n",
       "     preparation_time_min_upper_bound  experience_years_lower_bound  \\\n",
       "116                              29.5                          -8.0   \n",
       "\n",
       "     experience_years_upper_bound  delivery_time_min_lower_bound  \\\n",
       "116                          16.0                          -25.0   \n",
       "\n",
       "     delivery_time_min_upper_bound  \n",
       "116                          135.0  "
      ]
     },
     "execution_count": 182,
     "metadata": {},
     "output_type": "execute_result"
    }
   ],
   "source": [
    "df_bound.loc[df_bound[\"order\"] == 446]"
   ]
  },
  {
   "cell_type": "code",
   "execution_count": 183,
   "id": "rIc5XPmuFKlm",
   "metadata": {
    "colab": {
     "base_uri": "https://localhost:8080/",
     "height": 101
    },
    "id": "rIc5XPmuFKlm",
    "outputId": "b072728b-5485-4677-ff3e-f4c39256dbed"
   },
   "outputs": [
    {
     "data": {
      "text/html": [
       "<div>\n",
       "<style scoped>\n",
       "    .dataframe tbody tr th:only-of-type {\n",
       "        vertical-align: middle;\n",
       "    }\n",
       "\n",
       "    .dataframe tbody tr th {\n",
       "        vertical-align: top;\n",
       "    }\n",
       "\n",
       "    .dataframe thead th {\n",
       "        text-align: right;\n",
       "    }\n",
       "</style>\n",
       "<table border=\"1\" class=\"dataframe\">\n",
       "  <thead>\n",
       "    <tr style=\"text-align: right;\">\n",
       "      <th></th>\n",
       "      <th>order</th>\n",
       "      <th>distance</th>\n",
       "      <th>weather</th>\n",
       "      <th>traffic_level</th>\n",
       "      <th>time_day</th>\n",
       "      <th>vehicle_type</th>\n",
       "      <th>preparation_time_min</th>\n",
       "      <th>experience_years</th>\n",
       "      <th>delivery_time_min</th>\n",
       "    </tr>\n",
       "  </thead>\n",
       "  <tbody>\n",
       "    <tr>\n",
       "      <th>127</th>\n",
       "      <td>446</td>\n",
       "      <td>18.97</td>\n",
       "      <td>Clear</td>\n",
       "      <td>Low</td>\n",
       "      <td>Evening</td>\n",
       "      <td>Car</td>\n",
       "      <td>25</td>\n",
       "      <td>4.0</td>\n",
       "      <td>141</td>\n",
       "    </tr>\n",
       "  </tbody>\n",
       "</table>\n",
       "</div>"
      ],
      "text/plain": [
       "     order  distance weather traffic_level time_day vehicle_type  \\\n",
       "127    446     18.97   Clear           Low  Evening          Car   \n",
       "\n",
       "     preparation_time_min  experience_years  delivery_time_min  \n",
       "127                    25               4.0                141  "
      ]
     },
     "execution_count": 183,
     "metadata": {},
     "output_type": "execute_result"
    }
   ],
   "source": [
    "df.loc[df[\"order\"] == 446]"
   ]
  },
  {
   "cell_type": "code",
   "execution_count": 184,
   "id": "wFNes1STo6fk",
   "metadata": {
    "colab": {
     "base_uri": "https://localhost:8080/"
    },
    "id": "wFNes1STo6fk",
    "outputId": "560218ed-9312-4db7-82e6-3c7aa8517d14"
   },
   "outputs": [
    {
     "name": "stdout",
     "output_type": "stream",
     "text": [
      "Hay 883 registros previo a segunda limpieza.\n",
      "Limpiando outliers...\n",
      "\n",
      " Row: 883 \n",
      " order: processing... \n",
      " Row: 870 \n",
      " distance: processing... \n",
      " Row: 861 \n",
      " preparation_time_min: processing... \n",
      " Row: 845 \n",
      " experience_years: processing... \n",
      " Row: 830 \n",
      " delivery_time_min: processing... \n",
      "Completed!\n",
      "\n",
      "Hay 808 registros luego de segunda limpieza.\n"
     ]
    }
   ],
   "source": [
    "print(f\"Hay {df.shape[0]} registros previo a segunda limpieza.\")\n",
    "print(\"Limpiando outliers...\\n\")\n",
    "\n",
    "for c in num_cols:\n",
    "    print(f\" Row: {df_bound.shape[0]} \")\n",
    "    print(f\" {c}: processing... \")\n",
    "\n",
    "    df_bound = df_bound.loc[\n",
    "        (df_bound[c] >= df_bound[f\"{c}_lower_bound\"]) &\n",
    "        (df_bound[c] <= df_bound[f\"{c}_upper_bound\"])\n",
    "    ]\n",
    "\n",
    "print(\"Completed!\")\n",
    "print(f\"\\nHay {df_bound.shape[0]} registros luego de segunda limpieza.\")\n"
   ]
  },
  {
   "cell_type": "code",
   "execution_count": 185,
   "id": "u7SZVC6IARrY",
   "metadata": {
    "colab": {
     "base_uri": "https://localhost:8080/",
     "height": 443
    },
    "id": "u7SZVC6IARrY",
    "outputId": "58445f59-8278-43b6-837e-8f7185c2c2c5"
   },
   "outputs": [
    {
     "data": {
      "text/html": [
       "<div>\n",
       "<style scoped>\n",
       "    .dataframe tbody tr th:only-of-type {\n",
       "        vertical-align: middle;\n",
       "    }\n",
       "\n",
       "    .dataframe tbody tr th {\n",
       "        vertical-align: top;\n",
       "    }\n",
       "\n",
       "    .dataframe thead th {\n",
       "        text-align: right;\n",
       "    }\n",
       "</style>\n",
       "<table border=\"1\" class=\"dataframe\">\n",
       "  <thead>\n",
       "    <tr style=\"text-align: right;\">\n",
       "      <th></th>\n",
       "      <th>order</th>\n",
       "      <th>distance</th>\n",
       "      <th>weather</th>\n",
       "      <th>traffic_level</th>\n",
       "      <th>time_day</th>\n",
       "      <th>vehicle_type</th>\n",
       "      <th>preparation_time_min</th>\n",
       "      <th>experience_years</th>\n",
       "      <th>delivery_time_min</th>\n",
       "      <th>order_lower_bound</th>\n",
       "      <th>order_upper_bound</th>\n",
       "      <th>distance_lower_bound</th>\n",
       "      <th>distance_upper_bound</th>\n",
       "      <th>preparation_time_min_lower_bound</th>\n",
       "      <th>preparation_time_min_upper_bound</th>\n",
       "      <th>experience_years_lower_bound</th>\n",
       "      <th>experience_years_upper_bound</th>\n",
       "      <th>delivery_time_min_lower_bound</th>\n",
       "      <th>delivery_time_min_upper_bound</th>\n",
       "    </tr>\n",
       "  </thead>\n",
       "  <tbody>\n",
       "    <tr>\n",
       "      <th>0</th>\n",
       "      <td>522</td>\n",
       "      <td>7.93</td>\n",
       "      <td>Windy</td>\n",
       "      <td>Low</td>\n",
       "      <td>Afternoon</td>\n",
       "      <td>Scooter</td>\n",
       "      <td>12</td>\n",
       "      <td>1.0</td>\n",
       "      <td>43</td>\n",
       "      <td>522.000</td>\n",
       "      <td>522.000</td>\n",
       "      <td>7.9300</td>\n",
       "      <td>7.9300</td>\n",
       "      <td>12.000</td>\n",
       "      <td>12.000</td>\n",
       "      <td>1.000</td>\n",
       "      <td>1.000</td>\n",
       "      <td>43.000</td>\n",
       "      <td>43.000</td>\n",
       "    </tr>\n",
       "    <tr>\n",
       "      <th>1</th>\n",
       "      <td>738</td>\n",
       "      <td>16.42</td>\n",
       "      <td>Clear</td>\n",
       "      <td>Medium</td>\n",
       "      <td>Evening</td>\n",
       "      <td>Bike</td>\n",
       "      <td>20</td>\n",
       "      <td>2.0</td>\n",
       "      <td>84</td>\n",
       "      <td>-441.875</td>\n",
       "      <td>1379.125</td>\n",
       "      <td>-9.7625</td>\n",
       "      <td>28.2575</td>\n",
       "      <td>-8.375</td>\n",
       "      <td>40.625</td>\n",
       "      <td>-5.000</td>\n",
       "      <td>11.000</td>\n",
       "      <td>0.500</td>\n",
       "      <td>102.500</td>\n",
       "    </tr>\n",
       "    <tr>\n",
       "      <th>2</th>\n",
       "      <td>741</td>\n",
       "      <td>9.52</td>\n",
       "      <td>Foggy</td>\n",
       "      <td>Low</td>\n",
       "      <td>Night</td>\n",
       "      <td>Scooter</td>\n",
       "      <td>28</td>\n",
       "      <td>1.0</td>\n",
       "      <td>59</td>\n",
       "      <td>-216.000</td>\n",
       "      <td>1060.000</td>\n",
       "      <td>5.1850</td>\n",
       "      <td>10.9650</td>\n",
       "      <td>22.000</td>\n",
       "      <td>30.000</td>\n",
       "      <td>0.000</td>\n",
       "      <td>4.000</td>\n",
       "      <td>57.500</td>\n",
       "      <td>59.500</td>\n",
       "    </tr>\n",
       "    <tr>\n",
       "      <th>3</th>\n",
       "      <td>661</td>\n",
       "      <td>7.44</td>\n",
       "      <td>Rainy</td>\n",
       "      <td>Medium</td>\n",
       "      <td>Afternoon</td>\n",
       "      <td>Scooter</td>\n",
       "      <td>5</td>\n",
       "      <td>1.0</td>\n",
       "      <td>37</td>\n",
       "      <td>-20.500</td>\n",
       "      <td>1077.500</td>\n",
       "      <td>-4.9950</td>\n",
       "      <td>25.5650</td>\n",
       "      <td>-12.625</td>\n",
       "      <td>44.375</td>\n",
       "      <td>-2.375</td>\n",
       "      <td>8.625</td>\n",
       "      <td>-21.125</td>\n",
       "      <td>141.875</td>\n",
       "    </tr>\n",
       "    <tr>\n",
       "      <th>4</th>\n",
       "      <td>412</td>\n",
       "      <td>19.03</td>\n",
       "      <td>Clear</td>\n",
       "      <td>Low</td>\n",
       "      <td>Morning</td>\n",
       "      <td>Bike</td>\n",
       "      <td>16</td>\n",
       "      <td>5.0</td>\n",
       "      <td>68</td>\n",
       "      <td>-331.000</td>\n",
       "      <td>1165.000</td>\n",
       "      <td>-11.7650</td>\n",
       "      <td>28.8350</td>\n",
       "      <td>3.500</td>\n",
       "      <td>31.500</td>\n",
       "      <td>-4.000</td>\n",
       "      <td>12.000</td>\n",
       "      <td>-19.000</td>\n",
       "      <td>117.000</td>\n",
       "    </tr>\n",
       "    <tr>\n",
       "      <th>...</th>\n",
       "      <td>...</td>\n",
       "      <td>...</td>\n",
       "      <td>...</td>\n",
       "      <td>...</td>\n",
       "      <td>...</td>\n",
       "      <td>...</td>\n",
       "      <td>...</td>\n",
       "      <td>...</td>\n",
       "      <td>...</td>\n",
       "      <td>...</td>\n",
       "      <td>...</td>\n",
       "      <td>...</td>\n",
       "      <td>...</td>\n",
       "      <td>...</td>\n",
       "      <td>...</td>\n",
       "      <td>...</td>\n",
       "      <td>...</td>\n",
       "      <td>...</td>\n",
       "      <td>...</td>\n",
       "    </tr>\n",
       "    <tr>\n",
       "      <th>878</th>\n",
       "      <td>107</td>\n",
       "      <td>8.50</td>\n",
       "      <td>Clear</td>\n",
       "      <td>High</td>\n",
       "      <td>Evening</td>\n",
       "      <td>Car</td>\n",
       "      <td>13</td>\n",
       "      <td>3.0</td>\n",
       "      <td>54</td>\n",
       "      <td>-40.000</td>\n",
       "      <td>936.000</td>\n",
       "      <td>0.6150</td>\n",
       "      <td>18.4150</td>\n",
       "      <td>-5.500</td>\n",
       "      <td>38.500</td>\n",
       "      <td>-6.000</td>\n",
       "      <td>18.000</td>\n",
       "      <td>51.000</td>\n",
       "      <td>59.000</td>\n",
       "    </tr>\n",
       "    <tr>\n",
       "      <th>879</th>\n",
       "      <td>271</td>\n",
       "      <td>16.28</td>\n",
       "      <td>Rainy</td>\n",
       "      <td>Low</td>\n",
       "      <td>Morning</td>\n",
       "      <td>Scooter</td>\n",
       "      <td>8</td>\n",
       "      <td>9.0</td>\n",
       "      <td>71</td>\n",
       "      <td>-60.500</td>\n",
       "      <td>863.500</td>\n",
       "      <td>-11.1450</td>\n",
       "      <td>24.2550</td>\n",
       "      <td>5.000</td>\n",
       "      <td>13.000</td>\n",
       "      <td>3.000</td>\n",
       "      <td>11.000</td>\n",
       "      <td>0.000</td>\n",
       "      <td>88.000</td>\n",
       "    </tr>\n",
       "    <tr>\n",
       "      <th>880</th>\n",
       "      <td>861</td>\n",
       "      <td>15.62</td>\n",
       "      <td>Snowy</td>\n",
       "      <td>High</td>\n",
       "      <td>Evening</td>\n",
       "      <td>Scooter</td>\n",
       "      <td>26</td>\n",
       "      <td>2.0</td>\n",
       "      <td>81</td>\n",
       "      <td>796.500</td>\n",
       "      <td>1054.500</td>\n",
       "      <td>15.1950</td>\n",
       "      <td>16.8950</td>\n",
       "      <td>17.000</td>\n",
       "      <td>29.000</td>\n",
       "      <td>-1.500</td>\n",
       "      <td>12.500</td>\n",
       "      <td>72.000</td>\n",
       "      <td>84.000</td>\n",
       "    </tr>\n",
       "    <tr>\n",
       "      <th>881</th>\n",
       "      <td>436</td>\n",
       "      <td>14.17</td>\n",
       "      <td>Clear</td>\n",
       "      <td>Low</td>\n",
       "      <td>Afternoon</td>\n",
       "      <td>Bike</td>\n",
       "      <td>8</td>\n",
       "      <td>0.0</td>\n",
       "      <td>55</td>\n",
       "      <td>-554.000</td>\n",
       "      <td>1582.000</td>\n",
       "      <td>-10.4650</td>\n",
       "      <td>25.8950</td>\n",
       "      <td>-5.000</td>\n",
       "      <td>43.000</td>\n",
       "      <td>-8.000</td>\n",
       "      <td>16.000</td>\n",
       "      <td>-24.500</td>\n",
       "      <td>115.500</td>\n",
       "    </tr>\n",
       "    <tr>\n",
       "      <th>882</th>\n",
       "      <td>103</td>\n",
       "      <td>6.63</td>\n",
       "      <td>Foggy</td>\n",
       "      <td>Low</td>\n",
       "      <td>Night</td>\n",
       "      <td>Scooter</td>\n",
       "      <td>24</td>\n",
       "      <td>3.0</td>\n",
       "      <td>58</td>\n",
       "      <td>-216.000</td>\n",
       "      <td>1060.000</td>\n",
       "      <td>5.1850</td>\n",
       "      <td>10.9650</td>\n",
       "      <td>22.000</td>\n",
       "      <td>30.000</td>\n",
       "      <td>0.000</td>\n",
       "      <td>4.000</td>\n",
       "      <td>57.500</td>\n",
       "      <td>59.500</td>\n",
       "    </tr>\n",
       "  </tbody>\n",
       "</table>\n",
       "<p>808 rows × 19 columns</p>\n",
       "</div>"
      ],
      "text/plain": [
       "     order  distance weather traffic_level   time_day vehicle_type  \\\n",
       "0      522      7.93   Windy           Low  Afternoon      Scooter   \n",
       "1      738     16.42   Clear        Medium    Evening         Bike   \n",
       "2      741      9.52   Foggy           Low      Night      Scooter   \n",
       "3      661      7.44   Rainy        Medium  Afternoon      Scooter   \n",
       "4      412     19.03   Clear           Low    Morning         Bike   \n",
       "..     ...       ...     ...           ...        ...          ...   \n",
       "878    107      8.50   Clear          High    Evening          Car   \n",
       "879    271     16.28   Rainy           Low    Morning      Scooter   \n",
       "880    861     15.62   Snowy          High    Evening      Scooter   \n",
       "881    436     14.17   Clear           Low  Afternoon         Bike   \n",
       "882    103      6.63   Foggy           Low      Night      Scooter   \n",
       "\n",
       "     preparation_time_min  experience_years  delivery_time_min  \\\n",
       "0                      12               1.0                 43   \n",
       "1                      20               2.0                 84   \n",
       "2                      28               1.0                 59   \n",
       "3                       5               1.0                 37   \n",
       "4                      16               5.0                 68   \n",
       "..                    ...               ...                ...   \n",
       "878                    13               3.0                 54   \n",
       "879                     8               9.0                 71   \n",
       "880                    26               2.0                 81   \n",
       "881                     8               0.0                 55   \n",
       "882                    24               3.0                 58   \n",
       "\n",
       "     order_lower_bound  order_upper_bound  distance_lower_bound  \\\n",
       "0              522.000            522.000                7.9300   \n",
       "1             -441.875           1379.125               -9.7625   \n",
       "2             -216.000           1060.000                5.1850   \n",
       "3              -20.500           1077.500               -4.9950   \n",
       "4             -331.000           1165.000              -11.7650   \n",
       "..                 ...                ...                   ...   \n",
       "878            -40.000            936.000                0.6150   \n",
       "879            -60.500            863.500              -11.1450   \n",
       "880            796.500           1054.500               15.1950   \n",
       "881           -554.000           1582.000              -10.4650   \n",
       "882           -216.000           1060.000                5.1850   \n",
       "\n",
       "     distance_upper_bound  preparation_time_min_lower_bound  \\\n",
       "0                  7.9300                            12.000   \n",
       "1                 28.2575                            -8.375   \n",
       "2                 10.9650                            22.000   \n",
       "3                 25.5650                           -12.625   \n",
       "4                 28.8350                             3.500   \n",
       "..                    ...                               ...   \n",
       "878               18.4150                            -5.500   \n",
       "879               24.2550                             5.000   \n",
       "880               16.8950                            17.000   \n",
       "881               25.8950                            -5.000   \n",
       "882               10.9650                            22.000   \n",
       "\n",
       "     preparation_time_min_upper_bound  experience_years_lower_bound  \\\n",
       "0                              12.000                         1.000   \n",
       "1                              40.625                        -5.000   \n",
       "2                              30.000                         0.000   \n",
       "3                              44.375                        -2.375   \n",
       "4                              31.500                        -4.000   \n",
       "..                                ...                           ...   \n",
       "878                            38.500                        -6.000   \n",
       "879                            13.000                         3.000   \n",
       "880                            29.000                        -1.500   \n",
       "881                            43.000                        -8.000   \n",
       "882                            30.000                         0.000   \n",
       "\n",
       "     experience_years_upper_bound  delivery_time_min_lower_bound  \\\n",
       "0                           1.000                         43.000   \n",
       "1                          11.000                          0.500   \n",
       "2                           4.000                         57.500   \n",
       "3                           8.625                        -21.125   \n",
       "4                          12.000                        -19.000   \n",
       "..                            ...                            ...   \n",
       "878                        18.000                         51.000   \n",
       "879                        11.000                          0.000   \n",
       "880                        12.500                         72.000   \n",
       "881                        16.000                        -24.500   \n",
       "882                         4.000                         57.500   \n",
       "\n",
       "     delivery_time_min_upper_bound  \n",
       "0                           43.000  \n",
       "1                          102.500  \n",
       "2                           59.500  \n",
       "3                          141.875  \n",
       "4                          117.000  \n",
       "..                             ...  \n",
       "878                         59.000  \n",
       "879                         88.000  \n",
       "880                         84.000  \n",
       "881                        115.500  \n",
       "882                         59.500  \n",
       "\n",
       "[808 rows x 19 columns]"
      ]
     },
     "execution_count": 185,
     "metadata": {},
     "output_type": "execute_result"
    }
   ],
   "source": [
    "df_bound"
   ]
  },
  {
   "cell_type": "markdown",
   "id": "Q1qLmljj9QNm",
   "metadata": {
    "id": "Q1qLmljj9QNm"
   },
   "source": [
    "Verificamos nuevamente si aún están los outliers..."
   ]
  },
  {
   "cell_type": "code",
   "execution_count": 186,
   "id": "DFiwqYMc9N-o",
   "metadata": {
    "colab": {
     "base_uri": "https://localhost:8080/",
     "height": 430
    },
    "id": "DFiwqYMc9N-o",
    "outputId": "7f722a91-d8f4-4fe9-e0da-b9dfe92b287c"
   },
   "outputs": [
    {
     "data": {
      "image/png": "[encoded data removed]",
      "text/plain": [
       "<Figure size 640x480 with 1 Axes>"
      ]
     },
     "metadata": {},
     "output_type": "display_data"
    }
   ],
   "source": [
    "df_bound.loc[\n",
    "    (df_bound[\"weather\"] == \"Clear\") &\n",
    "    (df_bound[\"traffic_level\"] == \"Low\") &\n",
    "    (df_bound[\"time_day\"] == \"Evening\"  ),\n",
    "    [\"delivery_time_min\"]\n",
    "].boxplot()\n",
    "\n",
    "plt.show()"
   ]
  },
  {
   "cell_type": "code",
   "execution_count": 187,
   "id": "9m-WFQbo9c_y",
   "metadata": {
    "colab": {
     "base_uri": "https://localhost:8080/",
     "height": 430
    },
    "id": "9m-WFQbo9c_y",
    "outputId": "8bde381a-7a01-41bc-83a2-ff745a494e24"
   },
   "outputs": [
    {
     "data": {
      "image/png": "[encoded data removed]",
      "text/plain": [
       "<Figure size 640x480 with 1 Axes>"
      ]
     },
     "metadata": {},
     "output_type": "display_data"
    }
   ],
   "source": [
    "df_bound.loc[\n",
    "    (df_bound[\"weather\"] == \"Clear\") &\n",
    "    (df_bound[\"traffic_level\"] == \"Medium\") &\n",
    "    (df_bound[\"time_day\"] == \"Evening\"  ),\n",
    "    [\"delivery_time_min\"]\n",
    "].boxplot()\n",
    "\n",
    "plt.show()"
   ]
  },
  {
   "cell_type": "markdown",
   "id": "m2MQGI1MAkcb",
   "metadata": {
    "id": "m2MQGI1MAkcb"
   },
   "source": [
    "Corroboramos que efectivamente los outliers fueron eliminados de dataset."
   ]
  },
  {
   "cell_type": "code",
   "execution_count": 188,
   "id": "9pT9p46o_p1l",
   "metadata": {
    "colab": {
     "base_uri": "https://localhost:8080/",
     "height": 73
    },
    "id": "9pT9p46o_p1l",
    "outputId": "852128f1-a118-4f2a-b5b3-b4eb1a8447dd"
   },
   "outputs": [
    {
     "data": {
      "text/html": [
       "<div>\n",
       "<style scoped>\n",
       "    .dataframe tbody tr th:only-of-type {\n",
       "        vertical-align: middle;\n",
       "    }\n",
       "\n",
       "    .dataframe tbody tr th {\n",
       "        vertical-align: top;\n",
       "    }\n",
       "\n",
       "    .dataframe thead th {\n",
       "        text-align: right;\n",
       "    }\n",
       "</style>\n",
       "<table border=\"1\" class=\"dataframe\">\n",
       "  <thead>\n",
       "    <tr style=\"text-align: right;\">\n",
       "      <th></th>\n",
       "      <th>order</th>\n",
       "      <th>distance</th>\n",
       "      <th>weather</th>\n",
       "      <th>traffic_level</th>\n",
       "      <th>time_day</th>\n",
       "      <th>vehicle_type</th>\n",
       "      <th>preparation_time_min</th>\n",
       "      <th>experience_years</th>\n",
       "      <th>delivery_time_min</th>\n",
       "      <th>order_lower_bound</th>\n",
       "      <th>order_upper_bound</th>\n",
       "      <th>distance_lower_bound</th>\n",
       "      <th>distance_upper_bound</th>\n",
       "      <th>preparation_time_min_lower_bound</th>\n",
       "      <th>preparation_time_min_upper_bound</th>\n",
       "      <th>experience_years_lower_bound</th>\n",
       "      <th>experience_years_upper_bound</th>\n",
       "      <th>delivery_time_min_lower_bound</th>\n",
       "      <th>delivery_time_min_upper_bound</th>\n",
       "    </tr>\n",
       "  </thead>\n",
       "  <tbody>\n",
       "  </tbody>\n",
       "</table>\n",
       "</div>"
      ],
      "text/plain": [
       "Empty DataFrame\n",
       "Columns: [order, distance, weather, traffic_level, time_day, vehicle_type, preparation_time_min, experience_years, delivery_time_min, order_lower_bound, order_upper_bound, distance_lower_bound, distance_upper_bound, preparation_time_min_lower_bound, preparation_time_min_upper_bound, experience_years_lower_bound, experience_years_upper_bound, delivery_time_min_lower_bound, delivery_time_min_upper_bound]\n",
       "Index: []"
      ]
     },
     "execution_count": 188,
     "metadata": {},
     "output_type": "execute_result"
    }
   ],
   "source": [
    "df_bound.loc[df_bound[\"order\"] == 446]"
   ]
  },
  {
   "cell_type": "markdown",
   "id": "5dULaz3mAtf0",
   "metadata": {
    "id": "5dULaz3mAtf0"
   },
   "source": [
    "Intentamos acceder a uno de los registros extremos y ya no existe."
   ]
  },
  {
   "cell_type": "markdown",
   "id": "rke2J2KVA0tJ",
   "metadata": {
    "id": "rke2J2KVA0tJ"
   },
   "source": [
    "Limpieza completada."
   ]
  },
  {
   "cell_type": "markdown",
   "id": "qo2zZS-e_Hfl",
   "metadata": {
    "id": "qo2zZS-e_Hfl"
   },
   "source": [
    "## Resumen estadistico"
   ]
  },
  {
   "cell_type": "markdown",
   "id": "6ac1a792",
   "metadata": {},
   "source": [
    "Después de preparar el conjunto de datos, llegamos al punto donde necesitamos agrupar la información para calcular estadísticas clave."
   ]
  },
  {
   "cell_type": "code",
   "execution_count": 189,
   "id": "wW-wUUSE_CSl",
   "metadata": {
    "id": "wW-wUUSE_CSl"
   },
   "outputs": [],
   "source": [
    "df_clean = df_bound.loc[:,cat_cols+num_cols]"
   ]
  },
  {
   "cell_type": "markdown",
   "id": "a65ef3fa",
   "metadata": {},
   "source": [
    "Agrupamos por las variables categóricas y aplicamos funciones de agregación sobre la columna delivery_time_min.\n",
    "Esto nos dará el mínimo, máximo, media y desviación estándar para cada grupo."
   ]
  },
  {
   "cell_type": "code",
   "execution_count": 190,
   "id": "xPVrtgHK_Nb4",
   "metadata": {
    "colab": {
     "base_uri": "https://localhost:8080/",
     "height": 143
    },
    "id": "xPVrtgHK_Nb4",
    "outputId": "ae4324ca-254c-4e3d-efa3-cbb9bf17e8b1"
   },
   "outputs": [
    {
     "data": {
      "text/html": [
       "<div>\n",
       "<style scoped>\n",
       "    .dataframe tbody tr th:only-of-type {\n",
       "        vertical-align: middle;\n",
       "    }\n",
       "\n",
       "    .dataframe tbody tr th {\n",
       "        vertical-align: top;\n",
       "    }\n",
       "\n",
       "    .dataframe thead tr th {\n",
       "        text-align: left;\n",
       "    }\n",
       "</style>\n",
       "<table border=\"1\" class=\"dataframe\">\n",
       "  <thead>\n",
       "    <tr>\n",
       "      <th></th>\n",
       "      <th>weather</th>\n",
       "      <th>traffic_level</th>\n",
       "      <th>time_day</th>\n",
       "      <th>vehicle_type</th>\n",
       "      <th colspan=\"4\" halign=\"left\">delivery_time_min</th>\n",
       "    </tr>\n",
       "    <tr>\n",
       "      <th></th>\n",
       "      <th></th>\n",
       "      <th></th>\n",
       "      <th></th>\n",
       "      <th></th>\n",
       "      <th>min</th>\n",
       "      <th>max</th>\n",
       "      <th>mean</th>\n",
       "      <th>std</th>\n",
       "    </tr>\n",
       "  </thead>\n",
       "  <tbody>\n",
       "    <tr>\n",
       "      <th>0</th>\n",
       "      <td>Clear</td>\n",
       "      <td>High</td>\n",
       "      <td>Afternoon</td>\n",
       "      <td>Bike</td>\n",
       "      <td>32</td>\n",
       "      <td>95</td>\n",
       "      <td>53.909091</td>\n",
       "      <td>21.257726</td>\n",
       "    </tr>\n",
       "    <tr>\n",
       "      <th>1</th>\n",
       "      <td>Clear</td>\n",
       "      <td>High</td>\n",
       "      <td>Afternoon</td>\n",
       "      <td>Car</td>\n",
       "      <td>56</td>\n",
       "      <td>60</td>\n",
       "      <td>57.666667</td>\n",
       "      <td>2.081666</td>\n",
       "    </tr>\n",
       "  </tbody>\n",
       "</table>\n",
       "</div>"
      ],
      "text/plain": [
       "  weather traffic_level   time_day vehicle_type delivery_time_min      \\\n",
       "                                                              min max   \n",
       "0   Clear          High  Afternoon         Bike                32  95   \n",
       "1   Clear          High  Afternoon          Car                56  60   \n",
       "\n",
       "                         \n",
       "        mean        std  \n",
       "0  53.909091  21.257726  \n",
       "1  57.666667   2.081666  "
      ]
     },
     "execution_count": 190,
     "metadata": {},
     "output_type": "execute_result"
    }
   ],
   "source": [
    "df_clean.groupby(\n",
    "    cat_cols, as_index=False\n",
    ").agg({\n",
    "    'delivery_time_min':[\"min\",\"max\",\"mean\",\"std\"]\n",
    "}).head(2)"
   ]
  },
  {
   "cell_type": "markdown",
   "id": "bc01ad8f",
   "metadata": {},
   "source": [
    "## Definiendo agregaciones para todas las columnas numéricas\n",
    "\n",
    "Nos damos cuenta de que delivery_time_min es solo una columna numérica, pero queremos hacer esto para todas las variables numéricas. Así que creamos un diccionario summ_aggregations para almacenar las funciones de agregación."
   ]
  },
  {
   "cell_type": "code",
   "execution_count": 191,
   "id": "dNwCHcZw_8px",
   "metadata": {
    "id": "dNwCHcZw_8px"
   },
   "outputs": [],
   "source": [
    "summ_aggregations = {}\n",
    "cols_summ = []\n",
    "for c in num_cols:\n",
    "    summ_aggregations[c] = [\"min\",\"max\",\"mean\",\"std\"]\n",
    "    cols_summ.append(f\"{c}_min\")\n",
    "    cols_summ.append(f\"{c}_max\")\n",
    "    cols_summ.append(f\"{c}_mean\")\n",
    "    cols_summ.append(f\"{c}_std\")"
   ]
  },
  {
   "cell_type": "code",
   "execution_count": 192,
   "id": "RoAJRchXAAAX",
   "metadata": {
    "colab": {
     "base_uri": "https://localhost:8080/"
    },
    "id": "RoAJRchXAAAX",
    "outputId": "9e12367c-7a6b-46e6-ace4-821c0ef49150"
   },
   "outputs": [
    {
     "data": {
      "text/plain": [
       "{'order': ['min', 'max', 'mean', 'std'],\n",
       " 'distance': ['min', 'max', 'mean', 'std'],\n",
       " 'preparation_time_min': ['min', 'max', 'mean', 'std'],\n",
       " 'experience_years': ['min', 'max', 'mean', 'std'],\n",
       " 'delivery_time_min': ['min', 'max', 'mean', 'std']}"
      ]
     },
     "execution_count": 192,
     "metadata": {},
     "output_type": "execute_result"
    }
   ],
   "source": [
    "summ_aggregations"
   ]
  },
  {
   "cell_type": "markdown",
   "id": "30fc1e28",
   "metadata": {},
   "source": [
    "Usamos este diccionario para agrupar los datos y calcular los valores resumen\n"
   ]
  },
  {
   "cell_type": "code",
   "execution_count": 193,
   "id": "LM9Fx2JdAB90",
   "metadata": {
    "id": "LM9Fx2JdAB90"
   },
   "outputs": [],
   "source": [
    "df_summ = df_clean.groupby(\n",
    "    cat_cols, as_index=False\n",
    ").agg(summ_aggregations)"
   ]
  },
  {
   "cell_type": "code",
   "execution_count": 194,
   "id": "pm2Km_fTAEQ5",
   "metadata": {
    "id": "pm2Km_fTAEQ5"
   },
   "outputs": [],
   "source": [
    "df_summ.columns= cat_cols + cols_summ"
   ]
  },
  {
   "cell_type": "code",
   "execution_count": 195,
   "id": "gxqUc6y6AGGi",
   "metadata": {
    "colab": {
     "base_uri": "https://localhost:8080/",
     "height": 443
    },
    "id": "gxqUc6y6AGGi",
    "outputId": "6bacd56c-d1ae-45bd-d974-c3678ebb66ed"
   },
   "outputs": [
    {
     "data": {
      "text/html": [
       "<div>\n",
       "<style scoped>\n",
       "    .dataframe tbody tr th:only-of-type {\n",
       "        vertical-align: middle;\n",
       "    }\n",
       "\n",
       "    .dataframe tbody tr th {\n",
       "        vertical-align: top;\n",
       "    }\n",
       "\n",
       "    .dataframe thead th {\n",
       "        text-align: right;\n",
       "    }\n",
       "</style>\n",
       "<table border=\"1\" class=\"dataframe\">\n",
       "  <thead>\n",
       "    <tr style=\"text-align: right;\">\n",
       "      <th></th>\n",
       "      <th>weather</th>\n",
       "      <th>traffic_level</th>\n",
       "      <th>time_day</th>\n",
       "      <th>vehicle_type</th>\n",
       "      <th>order_min</th>\n",
       "      <th>order_max</th>\n",
       "      <th>order_mean</th>\n",
       "      <th>order_std</th>\n",
       "      <th>distance_min</th>\n",
       "      <th>distance_max</th>\n",
       "      <th>...</th>\n",
       "      <th>preparation_time_min_mean</th>\n",
       "      <th>preparation_time_min_std</th>\n",
       "      <th>experience_years_min</th>\n",
       "      <th>experience_years_max</th>\n",
       "      <th>experience_years_mean</th>\n",
       "      <th>experience_years_std</th>\n",
       "      <th>delivery_time_min_min</th>\n",
       "      <th>delivery_time_min_max</th>\n",
       "      <th>delivery_time_min_mean</th>\n",
       "      <th>delivery_time_min_std</th>\n",
       "    </tr>\n",
       "  </thead>\n",
       "  <tbody>\n",
       "    <tr>\n",
       "      <th>0</th>\n",
       "      <td>Clear</td>\n",
       "      <td>High</td>\n",
       "      <td>Afternoon</td>\n",
       "      <td>Bike</td>\n",
       "      <td>263</td>\n",
       "      <td>977</td>\n",
       "      <td>567.090909</td>\n",
       "      <td>250.226879</td>\n",
       "      <td>0.86</td>\n",
       "      <td>18.80</td>\n",
       "      <td>...</td>\n",
       "      <td>16.727273</td>\n",
       "      <td>7.015567</td>\n",
       "      <td>0.0</td>\n",
       "      <td>9.0</td>\n",
       "      <td>5.090909</td>\n",
       "      <td>3.477198</td>\n",
       "      <td>32</td>\n",
       "      <td>95</td>\n",
       "      <td>53.909091</td>\n",
       "      <td>21.257726</td>\n",
       "    </tr>\n",
       "    <tr>\n",
       "      <th>1</th>\n",
       "      <td>Clear</td>\n",
       "      <td>High</td>\n",
       "      <td>Afternoon</td>\n",
       "      <td>Car</td>\n",
       "      <td>287</td>\n",
       "      <td>969</td>\n",
       "      <td>663.333333</td>\n",
       "      <td>346.448168</td>\n",
       "      <td>9.58</td>\n",
       "      <td>11.54</td>\n",
       "      <td>...</td>\n",
       "      <td>14.666667</td>\n",
       "      <td>9.865766</td>\n",
       "      <td>0.0</td>\n",
       "      <td>8.0</td>\n",
       "      <td>4.000000</td>\n",
       "      <td>4.000000</td>\n",
       "      <td>56</td>\n",
       "      <td>60</td>\n",
       "      <td>57.666667</td>\n",
       "      <td>2.081666</td>\n",
       "    </tr>\n",
       "    <tr>\n",
       "      <th>2</th>\n",
       "      <td>Clear</td>\n",
       "      <td>High</td>\n",
       "      <td>Afternoon</td>\n",
       "      <td>Scooter</td>\n",
       "      <td>321</td>\n",
       "      <td>964</td>\n",
       "      <td>670.500000</td>\n",
       "      <td>221.377506</td>\n",
       "      <td>1.42</td>\n",
       "      <td>18.07</td>\n",
       "      <td>...</td>\n",
       "      <td>15.000000</td>\n",
       "      <td>7.091242</td>\n",
       "      <td>1.0</td>\n",
       "      <td>9.0</td>\n",
       "      <td>3.875000</td>\n",
       "      <td>3.090885</td>\n",
       "      <td>40</td>\n",
       "      <td>76</td>\n",
       "      <td>58.250000</td>\n",
       "      <td>11.973184</td>\n",
       "    </tr>\n",
       "    <tr>\n",
       "      <th>3</th>\n",
       "      <td>Clear</td>\n",
       "      <td>High</td>\n",
       "      <td>Evening</td>\n",
       "      <td>Bike</td>\n",
       "      <td>136</td>\n",
       "      <td>739</td>\n",
       "      <td>506.444444</td>\n",
       "      <td>199.328317</td>\n",
       "      <td>1.51</td>\n",
       "      <td>19.80</td>\n",
       "      <td>...</td>\n",
       "      <td>19.777778</td>\n",
       "      <td>8.105211</td>\n",
       "      <td>0.0</td>\n",
       "      <td>6.0</td>\n",
       "      <td>3.444444</td>\n",
       "      <td>2.006932</td>\n",
       "      <td>34</td>\n",
       "      <td>88</td>\n",
       "      <td>59.333333</td>\n",
       "      <td>16.837458</td>\n",
       "    </tr>\n",
       "    <tr>\n",
       "      <th>4</th>\n",
       "      <td>Clear</td>\n",
       "      <td>High</td>\n",
       "      <td>Evening</td>\n",
       "      <td>Car</td>\n",
       "      <td>107</td>\n",
       "      <td>803</td>\n",
       "      <td>479.333333</td>\n",
       "      <td>350.542912</td>\n",
       "      <td>5.83</td>\n",
       "      <td>11.74</td>\n",
       "      <td>...</td>\n",
       "      <td>15.333333</td>\n",
       "      <td>10.692677</td>\n",
       "      <td>3.0</td>\n",
       "      <td>9.0</td>\n",
       "      <td>5.000000</td>\n",
       "      <td>3.464102</td>\n",
       "      <td>54</td>\n",
       "      <td>56</td>\n",
       "      <td>54.666667</td>\n",
       "      <td>1.154701</td>\n",
       "    </tr>\n",
       "    <tr>\n",
       "      <th>...</th>\n",
       "      <td>...</td>\n",
       "      <td>...</td>\n",
       "      <td>...</td>\n",
       "      <td>...</td>\n",
       "      <td>...</td>\n",
       "      <td>...</td>\n",
       "      <td>...</td>\n",
       "      <td>...</td>\n",
       "      <td>...</td>\n",
       "      <td>...</td>\n",
       "      <td>...</td>\n",
       "      <td>...</td>\n",
       "      <td>...</td>\n",
       "      <td>...</td>\n",
       "      <td>...</td>\n",
       "      <td>...</td>\n",
       "      <td>...</td>\n",
       "      <td>...</td>\n",
       "      <td>...</td>\n",
       "      <td>...</td>\n",
       "      <td>...</td>\n",
       "    </tr>\n",
       "    <tr>\n",
       "      <th>151</th>\n",
       "      <td>Windy</td>\n",
       "      <td>Medium</td>\n",
       "      <td>Evening</td>\n",
       "      <td>Scooter</td>\n",
       "      <td>249</td>\n",
       "      <td>956</td>\n",
       "      <td>602.500000</td>\n",
       "      <td>499.924494</td>\n",
       "      <td>7.97</td>\n",
       "      <td>19.29</td>\n",
       "      <td>...</td>\n",
       "      <td>8.000000</td>\n",
       "      <td>1.414214</td>\n",
       "      <td>8.0</td>\n",
       "      <td>8.0</td>\n",
       "      <td>8.000000</td>\n",
       "      <td>0.000000</td>\n",
       "      <td>35</td>\n",
       "      <td>84</td>\n",
       "      <td>59.500000</td>\n",
       "      <td>34.648232</td>\n",
       "    </tr>\n",
       "    <tr>\n",
       "      <th>152</th>\n",
       "      <td>Windy</td>\n",
       "      <td>Medium</td>\n",
       "      <td>Morning</td>\n",
       "      <td>Bike</td>\n",
       "      <td>62</td>\n",
       "      <td>865</td>\n",
       "      <td>521.727273</td>\n",
       "      <td>286.827157</td>\n",
       "      <td>2.47</td>\n",
       "      <td>18.20</td>\n",
       "      <td>...</td>\n",
       "      <td>16.727273</td>\n",
       "      <td>8.379629</td>\n",
       "      <td>1.0</td>\n",
       "      <td>9.0</td>\n",
       "      <td>4.818182</td>\n",
       "      <td>2.400757</td>\n",
       "      <td>23</td>\n",
       "      <td>108</td>\n",
       "      <td>58.090909</td>\n",
       "      <td>26.109211</td>\n",
       "    </tr>\n",
       "    <tr>\n",
       "      <th>153</th>\n",
       "      <td>Windy</td>\n",
       "      <td>Medium</td>\n",
       "      <td>Morning</td>\n",
       "      <td>Car</td>\n",
       "      <td>640</td>\n",
       "      <td>668</td>\n",
       "      <td>654.000000</td>\n",
       "      <td>19.798990</td>\n",
       "      <td>3.63</td>\n",
       "      <td>7.86</td>\n",
       "      <td>...</td>\n",
       "      <td>22.000000</td>\n",
       "      <td>0.000000</td>\n",
       "      <td>2.0</td>\n",
       "      <td>9.0</td>\n",
       "      <td>5.500000</td>\n",
       "      <td>4.949747</td>\n",
       "      <td>39</td>\n",
       "      <td>55</td>\n",
       "      <td>47.000000</td>\n",
       "      <td>11.313708</td>\n",
       "    </tr>\n",
       "    <tr>\n",
       "      <th>154</th>\n",
       "      <td>Windy</td>\n",
       "      <td>Medium</td>\n",
       "      <td>Morning</td>\n",
       "      <td>Scooter</td>\n",
       "      <td>25</td>\n",
       "      <td>913</td>\n",
       "      <td>371.800000</td>\n",
       "      <td>348.454732</td>\n",
       "      <td>2.76</td>\n",
       "      <td>19.26</td>\n",
       "      <td>...</td>\n",
       "      <td>17.000000</td>\n",
       "      <td>9.137833</td>\n",
       "      <td>3.0</td>\n",
       "      <td>9.0</td>\n",
       "      <td>6.000000</td>\n",
       "      <td>2.236068</td>\n",
       "      <td>22</td>\n",
       "      <td>92</td>\n",
       "      <td>54.800000</td>\n",
       "      <td>26.319195</td>\n",
       "    </tr>\n",
       "    <tr>\n",
       "      <th>155</th>\n",
       "      <td>Windy</td>\n",
       "      <td>Medium</td>\n",
       "      <td>Night</td>\n",
       "      <td>Bike</td>\n",
       "      <td>513</td>\n",
       "      <td>839</td>\n",
       "      <td>683.666667</td>\n",
       "      <td>163.540005</td>\n",
       "      <td>3.51</td>\n",
       "      <td>18.69</td>\n",
       "      <td>...</td>\n",
       "      <td>23.000000</td>\n",
       "      <td>1.000000</td>\n",
       "      <td>2.0</td>\n",
       "      <td>9.0</td>\n",
       "      <td>6.000000</td>\n",
       "      <td>3.605551</td>\n",
       "      <td>44</td>\n",
       "      <td>77</td>\n",
       "      <td>65.000000</td>\n",
       "      <td>18.248288</td>\n",
       "    </tr>\n",
       "  </tbody>\n",
       "</table>\n",
       "<p>156 rows × 24 columns</p>\n",
       "</div>"
      ],
      "text/plain": [
       "    weather traffic_level   time_day vehicle_type  order_min  order_max  \\\n",
       "0     Clear          High  Afternoon         Bike        263        977   \n",
       "1     Clear          High  Afternoon          Car        287        969   \n",
       "2     Clear          High  Afternoon      Scooter        321        964   \n",
       "3     Clear          High    Evening         Bike        136        739   \n",
       "4     Clear          High    Evening          Car        107        803   \n",
       "..      ...           ...        ...          ...        ...        ...   \n",
       "151   Windy        Medium    Evening      Scooter        249        956   \n",
       "152   Windy        Medium    Morning         Bike         62        865   \n",
       "153   Windy        Medium    Morning          Car        640        668   \n",
       "154   Windy        Medium    Morning      Scooter         25        913   \n",
       "155   Windy        Medium      Night         Bike        513        839   \n",
       "\n",
       "     order_mean   order_std  distance_min  distance_max  ...  \\\n",
       "0    567.090909  250.226879          0.86         18.80  ...   \n",
       "1    663.333333  346.448168          9.58         11.54  ...   \n",
       "2    670.500000  221.377506          1.42         18.07  ...   \n",
       "3    506.444444  199.328317          1.51         19.80  ...   \n",
       "4    479.333333  350.542912          5.83         11.74  ...   \n",
       "..          ...         ...           ...           ...  ...   \n",
       "151  602.500000  499.924494          7.97         19.29  ...   \n",
       "152  521.727273  286.827157          2.47         18.20  ...   \n",
       "153  654.000000   19.798990          3.63          7.86  ...   \n",
       "154  371.800000  348.454732          2.76         19.26  ...   \n",
       "155  683.666667  163.540005          3.51         18.69  ...   \n",
       "\n",
       "     preparation_time_min_mean  preparation_time_min_std  \\\n",
       "0                    16.727273                  7.015567   \n",
       "1                    14.666667                  9.865766   \n",
       "2                    15.000000                  7.091242   \n",
       "3                    19.777778                  8.105211   \n",
       "4                    15.333333                 10.692677   \n",
       "..                         ...                       ...   \n",
       "151                   8.000000                  1.414214   \n",
       "152                  16.727273                  8.379629   \n",
       "153                  22.000000                  0.000000   \n",
       "154                  17.000000                  9.137833   \n",
       "155                  23.000000                  1.000000   \n",
       "\n",
       "     experience_years_min  experience_years_max  experience_years_mean  \\\n",
       "0                     0.0                   9.0               5.090909   \n",
       "1                     0.0                   8.0               4.000000   \n",
       "2                     1.0                   9.0               3.875000   \n",
       "3                     0.0                   6.0               3.444444   \n",
       "4                     3.0                   9.0               5.000000   \n",
       "..                    ...                   ...                    ...   \n",
       "151                   8.0                   8.0               8.000000   \n",
       "152                   1.0                   9.0               4.818182   \n",
       "153                   2.0                   9.0               5.500000   \n",
       "154                   3.0                   9.0               6.000000   \n",
       "155                   2.0                   9.0               6.000000   \n",
       "\n",
       "     experience_years_std  delivery_time_min_min  delivery_time_min_max  \\\n",
       "0                3.477198                     32                     95   \n",
       "1                4.000000                     56                     60   \n",
       "2                3.090885                     40                     76   \n",
       "3                2.006932                     34                     88   \n",
       "4                3.464102                     54                     56   \n",
       "..                    ...                    ...                    ...   \n",
       "151              0.000000                     35                     84   \n",
       "152              2.400757                     23                    108   \n",
       "153              4.949747                     39                     55   \n",
       "154              2.236068                     22                     92   \n",
       "155              3.605551                     44                     77   \n",
       "\n",
       "     delivery_time_min_mean  delivery_time_min_std  \n",
       "0                 53.909091              21.257726  \n",
       "1                 57.666667               2.081666  \n",
       "2                 58.250000              11.973184  \n",
       "3                 59.333333              16.837458  \n",
       "4                 54.666667               1.154701  \n",
       "..                      ...                    ...  \n",
       "151               59.500000              34.648232  \n",
       "152               58.090909              26.109211  \n",
       "153               47.000000              11.313708  \n",
       "154               54.800000              26.319195  \n",
       "155               65.000000              18.248288  \n",
       "\n",
       "[156 rows x 24 columns]"
      ]
     },
     "execution_count": 195,
     "metadata": {},
     "output_type": "execute_result"
    }
   ],
   "source": [
    "df_summ"
   ]
  },
  {
   "cell_type": "markdown",
   "id": "24c2fa89",
   "metadata": {},
   "source": [
    "Así obtenemos df_summ, que muestra los valores mínimos, máximos, promedios y desviaciones estándar de cada categoría\n",
    "\n",
    "Esto nos permitirá posteriormente generar datos sintéticos manteniendo la estructura original"
   ]
  },
  {
   "cell_type": "code",
   "execution_count": 196,
   "id": "kY8-V2auAH9-",
   "metadata": {
    "colab": {
     "base_uri": "https://localhost:8080/",
     "height": 423
    },
    "id": "kY8-V2auAH9-",
    "outputId": "2c2a1bc7-ecca-41e2-fd9a-f90999cc4ccb"
   },
   "outputs": [
    {
     "data": {
      "text/html": [
       "<div>\n",
       "<style scoped>\n",
       "    .dataframe tbody tr th:only-of-type {\n",
       "        vertical-align: middle;\n",
       "    }\n",
       "\n",
       "    .dataframe tbody tr th {\n",
       "        vertical-align: top;\n",
       "    }\n",
       "\n",
       "    .dataframe thead th {\n",
       "        text-align: right;\n",
       "    }\n",
       "</style>\n",
       "<table border=\"1\" class=\"dataframe\">\n",
       "  <thead>\n",
       "    <tr style=\"text-align: right;\">\n",
       "      <th></th>\n",
       "      <th>weather</th>\n",
       "      <th>traffic_level</th>\n",
       "      <th>time_day</th>\n",
       "      <th>vehicle_type</th>\n",
       "      <th>order</th>\n",
       "    </tr>\n",
       "  </thead>\n",
       "  <tbody>\n",
       "    <tr>\n",
       "      <th>0</th>\n",
       "      <td>Clear</td>\n",
       "      <td>High</td>\n",
       "      <td>Afternoon</td>\n",
       "      <td>Bike</td>\n",
       "      <td>0.011</td>\n",
       "    </tr>\n",
       "    <tr>\n",
       "      <th>1</th>\n",
       "      <td>Clear</td>\n",
       "      <td>High</td>\n",
       "      <td>Afternoon</td>\n",
       "      <td>Car</td>\n",
       "      <td>0.003</td>\n",
       "    </tr>\n",
       "    <tr>\n",
       "      <th>2</th>\n",
       "      <td>Clear</td>\n",
       "      <td>High</td>\n",
       "      <td>Afternoon</td>\n",
       "      <td>Scooter</td>\n",
       "      <td>0.008</td>\n",
       "    </tr>\n",
       "    <tr>\n",
       "      <th>3</th>\n",
       "      <td>Clear</td>\n",
       "      <td>High</td>\n",
       "      <td>Evening</td>\n",
       "      <td>Bike</td>\n",
       "      <td>0.010</td>\n",
       "    </tr>\n",
       "    <tr>\n",
       "      <th>4</th>\n",
       "      <td>Clear</td>\n",
       "      <td>High</td>\n",
       "      <td>Evening</td>\n",
       "      <td>Car</td>\n",
       "      <td>0.005</td>\n",
       "    </tr>\n",
       "    <tr>\n",
       "      <th>...</th>\n",
       "      <td>...</td>\n",
       "      <td>...</td>\n",
       "      <td>...</td>\n",
       "      <td>...</td>\n",
       "      <td>...</td>\n",
       "    </tr>\n",
       "    <tr>\n",
       "      <th>153</th>\n",
       "      <td>Windy</td>\n",
       "      <td>Medium</td>\n",
       "      <td>Evening</td>\n",
       "      <td>Scooter</td>\n",
       "      <td>0.002</td>\n",
       "    </tr>\n",
       "    <tr>\n",
       "      <th>154</th>\n",
       "      <td>Windy</td>\n",
       "      <td>Medium</td>\n",
       "      <td>Morning</td>\n",
       "      <td>Bike</td>\n",
       "      <td>0.011</td>\n",
       "    </tr>\n",
       "    <tr>\n",
       "      <th>155</th>\n",
       "      <td>Windy</td>\n",
       "      <td>Medium</td>\n",
       "      <td>Morning</td>\n",
       "      <td>Car</td>\n",
       "      <td>0.002</td>\n",
       "    </tr>\n",
       "    <tr>\n",
       "      <th>156</th>\n",
       "      <td>Windy</td>\n",
       "      <td>Medium</td>\n",
       "      <td>Morning</td>\n",
       "      <td>Scooter</td>\n",
       "      <td>0.005</td>\n",
       "    </tr>\n",
       "    <tr>\n",
       "      <th>157</th>\n",
       "      <td>Windy</td>\n",
       "      <td>Medium</td>\n",
       "      <td>Night</td>\n",
       "      <td>Bike</td>\n",
       "      <td>0.004</td>\n",
       "    </tr>\n",
       "  </tbody>\n",
       "</table>\n",
       "<p>158 rows × 5 columns</p>\n",
       "</div>"
      ],
      "text/plain": [
       "    weather traffic_level   time_day vehicle_type  order\n",
       "0     Clear          High  Afternoon         Bike  0.011\n",
       "1     Clear          High  Afternoon          Car  0.003\n",
       "2     Clear          High  Afternoon      Scooter  0.008\n",
       "3     Clear          High    Evening         Bike  0.010\n",
       "4     Clear          High    Evening          Car  0.005\n",
       "..      ...           ...        ...          ...    ...\n",
       "153   Windy        Medium    Evening      Scooter  0.002\n",
       "154   Windy        Medium    Morning         Bike  0.011\n",
       "155   Windy        Medium    Morning          Car  0.002\n",
       "156   Windy        Medium    Morning      Scooter  0.005\n",
       "157   Windy        Medium      Night         Bike  0.004\n",
       "\n",
       "[158 rows x 5 columns]"
      ]
     },
     "execution_count": 196,
     "metadata": {},
     "output_type": "execute_result"
    }
   ],
   "source": [
    "prob_freq"
   ]
  },
  {
   "cell_type": "markdown",
   "id": "e2dc2779",
   "metadata": {},
   "source": [
    "No queremos solo resumir datos, también queremos expandir el dataset, generando nuevas observaciones de manera realista\n",
    "\n",
    "El primer paso es asegurarnos de que las probabilidades sean correctas"
   ]
  },
  {
   "cell_type": "code",
   "execution_count": 197,
   "id": "XDftORzGALH5",
   "metadata": {
    "id": "XDftORzGALH5"
   },
   "outputs": [],
   "source": [
    "prob_freq = prob_freq.loc[df_summ.index]  # Solo índices de 0 a 9\n",
    "prob_freq[\"order\"] /= prob_freq[\"order\"].sum()  # Reajustar probabilidades\n",
    "\n",
    "ids = np.random.choice(prob_freq.index, size=100000, p=prob_freq[\"order\"].to_list())"
   ]
  },
  {
   "cell_type": "markdown",
   "id": "af7a7c4b",
   "metadata": {},
   "source": [
    "Luego, generamos 100000 IDs aleatorios basándonos en las probabilidades ajustadas cada ID tendrá asignada una cantidad de filas proporcional a su frecuencia en prob_freq\n"
   ]
  },
  {
   "cell_type": "code",
   "execution_count": 198,
   "id": "4yO7iwmtAORV",
   "metadata": {
    "id": "4yO7iwmtAORV"
   },
   "outputs": [
    {
     "data": {
      "text/plain": [
       "1254"
      ]
     },
     "execution_count": 198,
     "metadata": {},
     "output_type": "execute_result"
    }
   ],
   "source": [
    "len (ids [ids == 0])"
   ]
  },
  {
   "cell_type": "code",
   "execution_count": 199,
   "id": "CMKH2XnDARST",
   "metadata": {
    "id": "CMKH2XnDARST"
   },
   "outputs": [
    {
     "data": {
      "text/plain": [
       "100000"
      ]
     },
     "execution_count": 199,
     "metadata": {},
     "output_type": "execute_result"
    }
   ],
   "source": [
    "len (ids)"
   ]
  },
  {
   "cell_type": "code",
   "execution_count": 200,
   "id": "ZP-nUZQfATxh",
   "metadata": {
    "id": "ZP-nUZQfATxh"
   },
   "outputs": [
    {
     "data": {
      "text/plain": [
       "0.01254"
      ]
     },
     "execution_count": 200,
     "metadata": {},
     "output_type": "execute_result"
    }
   ],
   "source": [
    "len (ids [ids == 0]) / len (ids)"
   ]
  },
  {
   "cell_type": "code",
   "execution_count": 201,
   "id": "-7OpQFAoHjiM",
   "metadata": {
    "colab": {
     "base_uri": "https://localhost:8080/",
     "height": 443
    },
    "id": "-7OpQFAoHjiM",
    "outputId": "207590a4-da82-4306-a28f-c349f55c6a09"
   },
   "outputs": [
    {
     "data": {
      "text/html": [
       "<div>\n",
       "<style scoped>\n",
       "    .dataframe tbody tr th:only-of-type {\n",
       "        vertical-align: middle;\n",
       "    }\n",
       "\n",
       "    .dataframe tbody tr th {\n",
       "        vertical-align: top;\n",
       "    }\n",
       "\n",
       "    .dataframe thead th {\n",
       "        text-align: right;\n",
       "    }\n",
       "</style>\n",
       "<table border=\"1\" class=\"dataframe\">\n",
       "  <thead>\n",
       "    <tr style=\"text-align: right;\">\n",
       "      <th></th>\n",
       "      <th>weather</th>\n",
       "      <th>traffic_level</th>\n",
       "      <th>time_day</th>\n",
       "      <th>vehicle_type</th>\n",
       "      <th>order_min</th>\n",
       "      <th>order_max</th>\n",
       "      <th>order_mean</th>\n",
       "      <th>order_std</th>\n",
       "      <th>distance_min</th>\n",
       "      <th>distance_max</th>\n",
       "      <th>...</th>\n",
       "      <th>preparation_time_min_mean</th>\n",
       "      <th>preparation_time_min_std</th>\n",
       "      <th>experience_years_min</th>\n",
       "      <th>experience_years_max</th>\n",
       "      <th>experience_years_mean</th>\n",
       "      <th>experience_years_std</th>\n",
       "      <th>delivery_time_min_min</th>\n",
       "      <th>delivery_time_min_max</th>\n",
       "      <th>delivery_time_min_mean</th>\n",
       "      <th>delivery_time_min_std</th>\n",
       "    </tr>\n",
       "  </thead>\n",
       "  <tbody>\n",
       "    <tr>\n",
       "      <th>0</th>\n",
       "      <td>Clear</td>\n",
       "      <td>High</td>\n",
       "      <td>Afternoon</td>\n",
       "      <td>Bike</td>\n",
       "      <td>263</td>\n",
       "      <td>977</td>\n",
       "      <td>567.090909</td>\n",
       "      <td>250.226879</td>\n",
       "      <td>0.86</td>\n",
       "      <td>18.80</td>\n",
       "      <td>...</td>\n",
       "      <td>16.727273</td>\n",
       "      <td>7.015567</td>\n",
       "      <td>0.0</td>\n",
       "      <td>9.0</td>\n",
       "      <td>5.090909</td>\n",
       "      <td>3.477198</td>\n",
       "      <td>32</td>\n",
       "      <td>95</td>\n",
       "      <td>53.909091</td>\n",
       "      <td>21.257726</td>\n",
       "    </tr>\n",
       "    <tr>\n",
       "      <th>1</th>\n",
       "      <td>Clear</td>\n",
       "      <td>High</td>\n",
       "      <td>Afternoon</td>\n",
       "      <td>Car</td>\n",
       "      <td>287</td>\n",
       "      <td>969</td>\n",
       "      <td>663.333333</td>\n",
       "      <td>346.448168</td>\n",
       "      <td>9.58</td>\n",
       "      <td>11.54</td>\n",
       "      <td>...</td>\n",
       "      <td>14.666667</td>\n",
       "      <td>9.865766</td>\n",
       "      <td>0.0</td>\n",
       "      <td>8.0</td>\n",
       "      <td>4.000000</td>\n",
       "      <td>4.000000</td>\n",
       "      <td>56</td>\n",
       "      <td>60</td>\n",
       "      <td>57.666667</td>\n",
       "      <td>2.081666</td>\n",
       "    </tr>\n",
       "    <tr>\n",
       "      <th>2</th>\n",
       "      <td>Clear</td>\n",
       "      <td>High</td>\n",
       "      <td>Afternoon</td>\n",
       "      <td>Scooter</td>\n",
       "      <td>321</td>\n",
       "      <td>964</td>\n",
       "      <td>670.500000</td>\n",
       "      <td>221.377506</td>\n",
       "      <td>1.42</td>\n",
       "      <td>18.07</td>\n",
       "      <td>...</td>\n",
       "      <td>15.000000</td>\n",
       "      <td>7.091242</td>\n",
       "      <td>1.0</td>\n",
       "      <td>9.0</td>\n",
       "      <td>3.875000</td>\n",
       "      <td>3.090885</td>\n",
       "      <td>40</td>\n",
       "      <td>76</td>\n",
       "      <td>58.250000</td>\n",
       "      <td>11.973184</td>\n",
       "    </tr>\n",
       "    <tr>\n",
       "      <th>3</th>\n",
       "      <td>Clear</td>\n",
       "      <td>High</td>\n",
       "      <td>Evening</td>\n",
       "      <td>Bike</td>\n",
       "      <td>136</td>\n",
       "      <td>739</td>\n",
       "      <td>506.444444</td>\n",
       "      <td>199.328317</td>\n",
       "      <td>1.51</td>\n",
       "      <td>19.80</td>\n",
       "      <td>...</td>\n",
       "      <td>19.777778</td>\n",
       "      <td>8.105211</td>\n",
       "      <td>0.0</td>\n",
       "      <td>6.0</td>\n",
       "      <td>3.444444</td>\n",
       "      <td>2.006932</td>\n",
       "      <td>34</td>\n",
       "      <td>88</td>\n",
       "      <td>59.333333</td>\n",
       "      <td>16.837458</td>\n",
       "    </tr>\n",
       "    <tr>\n",
       "      <th>4</th>\n",
       "      <td>Clear</td>\n",
       "      <td>High</td>\n",
       "      <td>Evening</td>\n",
       "      <td>Car</td>\n",
       "      <td>107</td>\n",
       "      <td>803</td>\n",
       "      <td>479.333333</td>\n",
       "      <td>350.542912</td>\n",
       "      <td>5.83</td>\n",
       "      <td>11.74</td>\n",
       "      <td>...</td>\n",
       "      <td>15.333333</td>\n",
       "      <td>10.692677</td>\n",
       "      <td>3.0</td>\n",
       "      <td>9.0</td>\n",
       "      <td>5.000000</td>\n",
       "      <td>3.464102</td>\n",
       "      <td>54</td>\n",
       "      <td>56</td>\n",
       "      <td>54.666667</td>\n",
       "      <td>1.154701</td>\n",
       "    </tr>\n",
       "    <tr>\n",
       "      <th>...</th>\n",
       "      <td>...</td>\n",
       "      <td>...</td>\n",
       "      <td>...</td>\n",
       "      <td>...</td>\n",
       "      <td>...</td>\n",
       "      <td>...</td>\n",
       "      <td>...</td>\n",
       "      <td>...</td>\n",
       "      <td>...</td>\n",
       "      <td>...</td>\n",
       "      <td>...</td>\n",
       "      <td>...</td>\n",
       "      <td>...</td>\n",
       "      <td>...</td>\n",
       "      <td>...</td>\n",
       "      <td>...</td>\n",
       "      <td>...</td>\n",
       "      <td>...</td>\n",
       "      <td>...</td>\n",
       "      <td>...</td>\n",
       "      <td>...</td>\n",
       "    </tr>\n",
       "    <tr>\n",
       "      <th>151</th>\n",
       "      <td>Windy</td>\n",
       "      <td>Medium</td>\n",
       "      <td>Evening</td>\n",
       "      <td>Scooter</td>\n",
       "      <td>249</td>\n",
       "      <td>956</td>\n",
       "      <td>602.500000</td>\n",
       "      <td>499.924494</td>\n",
       "      <td>7.97</td>\n",
       "      <td>19.29</td>\n",
       "      <td>...</td>\n",
       "      <td>8.000000</td>\n",
       "      <td>1.414214</td>\n",
       "      <td>8.0</td>\n",
       "      <td>8.0</td>\n",
       "      <td>8.000000</td>\n",
       "      <td>0.000000</td>\n",
       "      <td>35</td>\n",
       "      <td>84</td>\n",
       "      <td>59.500000</td>\n",
       "      <td>34.648232</td>\n",
       "    </tr>\n",
       "    <tr>\n",
       "      <th>152</th>\n",
       "      <td>Windy</td>\n",
       "      <td>Medium</td>\n",
       "      <td>Morning</td>\n",
       "      <td>Bike</td>\n",
       "      <td>62</td>\n",
       "      <td>865</td>\n",
       "      <td>521.727273</td>\n",
       "      <td>286.827157</td>\n",
       "      <td>2.47</td>\n",
       "      <td>18.20</td>\n",
       "      <td>...</td>\n",
       "      <td>16.727273</td>\n",
       "      <td>8.379629</td>\n",
       "      <td>1.0</td>\n",
       "      <td>9.0</td>\n",
       "      <td>4.818182</td>\n",
       "      <td>2.400757</td>\n",
       "      <td>23</td>\n",
       "      <td>108</td>\n",
       "      <td>58.090909</td>\n",
       "      <td>26.109211</td>\n",
       "    </tr>\n",
       "    <tr>\n",
       "      <th>153</th>\n",
       "      <td>Windy</td>\n",
       "      <td>Medium</td>\n",
       "      <td>Morning</td>\n",
       "      <td>Car</td>\n",
       "      <td>640</td>\n",
       "      <td>668</td>\n",
       "      <td>654.000000</td>\n",
       "      <td>19.798990</td>\n",
       "      <td>3.63</td>\n",
       "      <td>7.86</td>\n",
       "      <td>...</td>\n",
       "      <td>22.000000</td>\n",
       "      <td>0.000000</td>\n",
       "      <td>2.0</td>\n",
       "      <td>9.0</td>\n",
       "      <td>5.500000</td>\n",
       "      <td>4.949747</td>\n",
       "      <td>39</td>\n",
       "      <td>55</td>\n",
       "      <td>47.000000</td>\n",
       "      <td>11.313708</td>\n",
       "    </tr>\n",
       "    <tr>\n",
       "      <th>154</th>\n",
       "      <td>Windy</td>\n",
       "      <td>Medium</td>\n",
       "      <td>Morning</td>\n",
       "      <td>Scooter</td>\n",
       "      <td>25</td>\n",
       "      <td>913</td>\n",
       "      <td>371.800000</td>\n",
       "      <td>348.454732</td>\n",
       "      <td>2.76</td>\n",
       "      <td>19.26</td>\n",
       "      <td>...</td>\n",
       "      <td>17.000000</td>\n",
       "      <td>9.137833</td>\n",
       "      <td>3.0</td>\n",
       "      <td>9.0</td>\n",
       "      <td>6.000000</td>\n",
       "      <td>2.236068</td>\n",
       "      <td>22</td>\n",
       "      <td>92</td>\n",
       "      <td>54.800000</td>\n",
       "      <td>26.319195</td>\n",
       "    </tr>\n",
       "    <tr>\n",
       "      <th>155</th>\n",
       "      <td>Windy</td>\n",
       "      <td>Medium</td>\n",
       "      <td>Night</td>\n",
       "      <td>Bike</td>\n",
       "      <td>513</td>\n",
       "      <td>839</td>\n",
       "      <td>683.666667</td>\n",
       "      <td>163.540005</td>\n",
       "      <td>3.51</td>\n",
       "      <td>18.69</td>\n",
       "      <td>...</td>\n",
       "      <td>23.000000</td>\n",
       "      <td>1.000000</td>\n",
       "      <td>2.0</td>\n",
       "      <td>9.0</td>\n",
       "      <td>6.000000</td>\n",
       "      <td>3.605551</td>\n",
       "      <td>44</td>\n",
       "      <td>77</td>\n",
       "      <td>65.000000</td>\n",
       "      <td>18.248288</td>\n",
       "    </tr>\n",
       "  </tbody>\n",
       "</table>\n",
       "<p>156 rows × 24 columns</p>\n",
       "</div>"
      ],
      "text/plain": [
       "    weather traffic_level   time_day vehicle_type  order_min  order_max  \\\n",
       "0     Clear          High  Afternoon         Bike        263        977   \n",
       "1     Clear          High  Afternoon          Car        287        969   \n",
       "2     Clear          High  Afternoon      Scooter        321        964   \n",
       "3     Clear          High    Evening         Bike        136        739   \n",
       "4     Clear          High    Evening          Car        107        803   \n",
       "..      ...           ...        ...          ...        ...        ...   \n",
       "151   Windy        Medium    Evening      Scooter        249        956   \n",
       "152   Windy        Medium    Morning         Bike         62        865   \n",
       "153   Windy        Medium    Morning          Car        640        668   \n",
       "154   Windy        Medium    Morning      Scooter         25        913   \n",
       "155   Windy        Medium      Night         Bike        513        839   \n",
       "\n",
       "     order_mean   order_std  distance_min  distance_max  ...  \\\n",
       "0    567.090909  250.226879          0.86         18.80  ...   \n",
       "1    663.333333  346.448168          9.58         11.54  ...   \n",
       "2    670.500000  221.377506          1.42         18.07  ...   \n",
       "3    506.444444  199.328317          1.51         19.80  ...   \n",
       "4    479.333333  350.542912          5.83         11.74  ...   \n",
       "..          ...         ...           ...           ...  ...   \n",
       "151  602.500000  499.924494          7.97         19.29  ...   \n",
       "152  521.727273  286.827157          2.47         18.20  ...   \n",
       "153  654.000000   19.798990          3.63          7.86  ...   \n",
       "154  371.800000  348.454732          2.76         19.26  ...   \n",
       "155  683.666667  163.540005          3.51         18.69  ...   \n",
       "\n",
       "     preparation_time_min_mean  preparation_time_min_std  \\\n",
       "0                    16.727273                  7.015567   \n",
       "1                    14.666667                  9.865766   \n",
       "2                    15.000000                  7.091242   \n",
       "3                    19.777778                  8.105211   \n",
       "4                    15.333333                 10.692677   \n",
       "..                         ...                       ...   \n",
       "151                   8.000000                  1.414214   \n",
       "152                  16.727273                  8.379629   \n",
       "153                  22.000000                  0.000000   \n",
       "154                  17.000000                  9.137833   \n",
       "155                  23.000000                  1.000000   \n",
       "\n",
       "     experience_years_min  experience_years_max  experience_years_mean  \\\n",
       "0                     0.0                   9.0               5.090909   \n",
       "1                     0.0                   8.0               4.000000   \n",
       "2                     1.0                   9.0               3.875000   \n",
       "3                     0.0                   6.0               3.444444   \n",
       "4                     3.0                   9.0               5.000000   \n",
       "..                    ...                   ...                    ...   \n",
       "151                   8.0                   8.0               8.000000   \n",
       "152                   1.0                   9.0               4.818182   \n",
       "153                   2.0                   9.0               5.500000   \n",
       "154                   3.0                   9.0               6.000000   \n",
       "155                   2.0                   9.0               6.000000   \n",
       "\n",
       "     experience_years_std  delivery_time_min_min  delivery_time_min_max  \\\n",
       "0                3.477198                     32                     95   \n",
       "1                4.000000                     56                     60   \n",
       "2                3.090885                     40                     76   \n",
       "3                2.006932                     34                     88   \n",
       "4                3.464102                     54                     56   \n",
       "..                    ...                    ...                    ...   \n",
       "151              0.000000                     35                     84   \n",
       "152              2.400757                     23                    108   \n",
       "153              4.949747                     39                     55   \n",
       "154              2.236068                     22                     92   \n",
       "155              3.605551                     44                     77   \n",
       "\n",
       "     delivery_time_min_mean  delivery_time_min_std  \n",
       "0                 53.909091              21.257726  \n",
       "1                 57.666667               2.081666  \n",
       "2                 58.250000              11.973184  \n",
       "3                 59.333333              16.837458  \n",
       "4                 54.666667               1.154701  \n",
       "..                      ...                    ...  \n",
       "151               59.500000              34.648232  \n",
       "152               58.090909              26.109211  \n",
       "153               47.000000              11.313708  \n",
       "154               54.800000              26.319195  \n",
       "155               65.000000              18.248288  \n",
       "\n",
       "[156 rows x 24 columns]"
      ]
     },
     "execution_count": 201,
     "metadata": {},
     "output_type": "execute_result"
    }
   ],
   "source": [
    "df_summ"
   ]
  },
  {
   "cell_type": "markdown",
   "id": "38dacadf-81f7-4d8e-b453-822b7e16d2bc",
   "metadata": {},
   "source": [
    "Ajustamos la precisión"
   ]
  },
  {
   "cell_type": "code",
   "execution_count": 202,
   "id": "58940641-6713-414a-92d3-50ef2b4427e8",
   "metadata": {},
   "outputs": [],
   "source": [
    "getcontext().prec = 50"
   ]
  },
  {
   "cell_type": "markdown",
   "id": "9672b525",
   "metadata": {},
   "source": [
    "Antes de generar los datos sintéticos, debemos asegurarnos de que los valores generados no se salgan de los límites establecidos en el dataset original.\n",
    "Para esto, utilizamos una distribución truncada, lo que significa que los valores generados siempre estarán entre un mínimo y un máximo predefinidos"
   ]
  },
  {
   "cell_type": "markdown",
   "id": "1387c17c-cea1-4b83-a903-e08b6dc6fe25",
   "metadata": {},
   "source": [
    "Al intentar hacer la extensión, nos damos cuenta de que en algunos de los subsets probabilísticos, la dsviación estándar está llegando NaN. A continuación analizamos algunos casos."
   ]
  },
  {
   "cell_type": "code",
   "execution_count": 203,
   "id": "31698ef5-8724-465f-a990-42e8680d24d3",
   "metadata": {},
   "outputs": [
    {
     "data": {
      "text/plain": [
       "weather                      Clear\n",
       "traffic_level                  Low\n",
       "time_day                     Night\n",
       "vehicle_type                   Car\n",
       "order_min                       68\n",
       "order_max                       68\n",
       "order_mean                    68.0\n",
       "order_std                      NaN\n",
       "distance_min                 16.14\n",
       "distance_max                 16.14\n",
       "distance_mean                16.14\n",
       "distance_std                   NaN\n",
       "preparation_time_min_min         6\n",
       "preparation_time_min_max         6\n",
       "preparation_time_min_mean      6.0\n",
       "preparation_time_min_std       NaN\n",
       "experience_years_min           9.0\n",
       "experience_years_max           9.0\n",
       "experience_years_mean          9.0\n",
       "experience_years_std           NaN\n",
       "delivery_time_min_min           65\n",
       "delivery_time_min_max           65\n",
       "delivery_time_min_mean        65.0\n",
       "delivery_time_min_std          NaN\n",
       "Name: 21, dtype: object"
      ]
     },
     "execution_count": 203,
     "metadata": {},
     "output_type": "execute_result"
    }
   ],
   "source": [
    "# 21\n",
    "df_summ.iloc[21]"
   ]
  },
  {
   "cell_type": "code",
   "execution_count": 204,
   "id": "db299419-6db0-4d9b-bd6a-11fad3afc28d",
   "metadata": {},
   "outputs": [
    {
     "data": {
      "text/html": [
       "<div>\n",
       "<style scoped>\n",
       "    .dataframe tbody tr th:only-of-type {\n",
       "        vertical-align: middle;\n",
       "    }\n",
       "\n",
       "    .dataframe tbody tr th {\n",
       "        vertical-align: top;\n",
       "    }\n",
       "\n",
       "    .dataframe thead th {\n",
       "        text-align: right;\n",
       "    }\n",
       "</style>\n",
       "<table border=\"1\" class=\"dataframe\">\n",
       "  <thead>\n",
       "    <tr style=\"text-align: right;\">\n",
       "      <th></th>\n",
       "      <th>order</th>\n",
       "      <th>distance</th>\n",
       "      <th>weather</th>\n",
       "      <th>traffic_level</th>\n",
       "      <th>time_day</th>\n",
       "      <th>vehicle_type</th>\n",
       "      <th>preparation_time_min</th>\n",
       "      <th>experience_years</th>\n",
       "      <th>delivery_time_min</th>\n",
       "    </tr>\n",
       "  </thead>\n",
       "  <tbody>\n",
       "    <tr>\n",
       "      <th>83</th>\n",
       "      <td>68</td>\n",
       "      <td>16.14</td>\n",
       "      <td>Clear</td>\n",
       "      <td>Low</td>\n",
       "      <td>Night</td>\n",
       "      <td>Car</td>\n",
       "      <td>6</td>\n",
       "      <td>9.0</td>\n",
       "      <td>65</td>\n",
       "    </tr>\n",
       "  </tbody>\n",
       "</table>\n",
       "</div>"
      ],
      "text/plain": [
       "    order  distance weather traffic_level time_day vehicle_type  \\\n",
       "83     68     16.14   Clear           Low    Night          Car   \n",
       "\n",
       "    preparation_time_min  experience_years  delivery_time_min  \n",
       "83                     6               9.0                 65  "
      ]
     },
     "execution_count": 204,
     "metadata": {},
     "output_type": "execute_result"
    }
   ],
   "source": [
    "# Estos son los registros que se encuentran en el subset 21\n",
    "df.loc[\n",
    "    (df['weather'] == 'Clear') & \n",
    "    (df['traffic_level'] == 'Low') & \n",
    "    (df['time_day'] == 'Night') & \n",
    "    (df['vehicle_type'] == 'Car')\n",
    "]"
   ]
  },
  {
   "cell_type": "markdown",
   "id": "4404b0fc-1ce1-4570-872d-ae0d50b4aa93",
   "metadata": {},
   "source": [
    "Solo hay un registro, lo que hace sentido de que el mínimo y el máximo sean lo mismo y no exista desviación estándar."
   ]
  },
  {
   "cell_type": "markdown",
   "id": "837f171a-d00d-4fa4-af42-d1c6ad66f1bb",
   "metadata": {},
   "source": [
    "Revisamos otro de los casos..."
   ]
  },
  {
   "cell_type": "code",
   "execution_count": 205,
   "id": "48821be3-2168-41a0-88ae-656ea8716233",
   "metadata": {},
   "outputs": [
    {
     "data": {
      "text/plain": [
       "weather                        Windy\n",
       "traffic_level                    Low\n",
       "time_day                     Evening\n",
       "vehicle_type                 Scooter\n",
       "order_min                        855\n",
       "order_max                        855\n",
       "order_mean                     855.0\n",
       "order_std                        NaN\n",
       "distance_min                     4.5\n",
       "distance_max                     4.5\n",
       "distance_mean                    4.5\n",
       "distance_std                     NaN\n",
       "preparation_time_min_min          20\n",
       "preparation_time_min_max          20\n",
       "preparation_time_min_mean       20.0\n",
       "preparation_time_min_std         NaN\n",
       "experience_years_min             6.0\n",
       "experience_years_max             6.0\n",
       "experience_years_mean            6.0\n",
       "experience_years_std             NaN\n",
       "delivery_time_min_min             32\n",
       "delivery_time_min_max             32\n",
       "delivery_time_min_mean          32.0\n",
       "delivery_time_min_std            NaN\n",
       "Name: 142, dtype: object"
      ]
     },
     "execution_count": 205,
     "metadata": {},
     "output_type": "execute_result"
    }
   ],
   "source": [
    "# 142\n",
    "df_summ.iloc[142]"
   ]
  },
  {
   "cell_type": "code",
   "execution_count": 206,
   "id": "248c8573-b0dd-4559-9d9d-08610020804d",
   "metadata": {},
   "outputs": [
    {
     "data": {
      "text/html": [
       "<div>\n",
       "<style scoped>\n",
       "    .dataframe tbody tr th:only-of-type {\n",
       "        vertical-align: middle;\n",
       "    }\n",
       "\n",
       "    .dataframe tbody tr th {\n",
       "        vertical-align: top;\n",
       "    }\n",
       "\n",
       "    .dataframe thead th {\n",
       "        text-align: right;\n",
       "    }\n",
       "</style>\n",
       "<table border=\"1\" class=\"dataframe\">\n",
       "  <thead>\n",
       "    <tr style=\"text-align: right;\">\n",
       "      <th></th>\n",
       "      <th>order</th>\n",
       "      <th>distance</th>\n",
       "      <th>weather</th>\n",
       "      <th>traffic_level</th>\n",
       "      <th>time_day</th>\n",
       "      <th>vehicle_type</th>\n",
       "      <th>preparation_time_min</th>\n",
       "      <th>experience_years</th>\n",
       "      <th>delivery_time_min</th>\n",
       "    </tr>\n",
       "  </thead>\n",
       "  <tbody>\n",
       "    <tr>\n",
       "      <th>651</th>\n",
       "      <td>855</td>\n",
       "      <td>4.5</td>\n",
       "      <td>Windy</td>\n",
       "      <td>Low</td>\n",
       "      <td>Evening</td>\n",
       "      <td>Scooter</td>\n",
       "      <td>20</td>\n",
       "      <td>6.0</td>\n",
       "      <td>32</td>\n",
       "    </tr>\n",
       "  </tbody>\n",
       "</table>\n",
       "</div>"
      ],
      "text/plain": [
       "     order  distance weather traffic_level time_day vehicle_type  \\\n",
       "651    855       4.5   Windy           Low  Evening      Scooter   \n",
       "\n",
       "     preparation_time_min  experience_years  delivery_time_min  \n",
       "651                    20               6.0                 32  "
      ]
     },
     "execution_count": 206,
     "metadata": {},
     "output_type": "execute_result"
    }
   ],
   "source": [
    "# Estos son los registros que se encuentran en el subset 142\n",
    "df.loc[\n",
    "    (df['weather'] == 'Windy') & \n",
    "    (df['traffic_level'] == 'Low') & \n",
    "    (df['time_day'] == 'Evening') & \n",
    "    (df['vehicle_type'] == 'Scooter')\n",
    "]"
   ]
  },
  {
   "cell_type": "markdown",
   "id": "d3c71c64-e675-4564-93ca-53b00d2f7d90",
   "metadata": {},
   "source": [
    "También contiene solo un registro, lo que nos lleva a la conclusión de que resuelve la std como NaN porque los valores máximo y mínimo son iguales."
   ]
  },
  {
   "cell_type": "markdown",
   "id": "c406f3e2-75b7-4f22-9dc2-ef8952108302",
   "metadata": {},
   "source": [
    "Y hay que reconfigurar de manera que el std en lugar de ser NaN, sea cero como corresponde."
   ]
  },
  {
   "cell_type": "code",
   "execution_count": 252,
   "id": "8bf148b8-5424-4334-b74d-a86f843c3e7f",
   "metadata": {},
   "outputs": [],
   "source": [
    "def trunc_vector(min_val, max_val, media, desv_std, size):\n",
    "    # Verificar que el tamaño sea válido\n",
    "    if size <= 0:\n",
    "        raise ValueError(\"El tamaño de las muestras debe ser mayor que 0.\")\n",
    "\n",
    "    std = desv_std\n",
    "    \n",
    "    # Si la desviación estándar es 0 o NaN, asignamos un valor pequeño\n",
    "    if not isinstance(desv_std, (int, float)) or desv_std <= 0 or np.isnan(desv_std):\n",
    "        std = 1e-6  # Evita que la desviación estándar sea cero o NaN\n",
    "\n",
    "\n",
    "    # Cálculos para obtener los parámetros de la distribución truncada\n",
    "    a = (min_val - media) / std\n",
    "    b = (max_val - media) / std\n",
    "    \n",
    "    # Generar las muestras aleatorias con truncnorm\n",
    "    return truncnorm.rvs(a, b, loc=media, scale=std, size=size)"
   ]
  },
  {
   "cell_type": "code",
   "execution_count": 253,
   "id": "voFY8UEJddzO",
   "metadata": {
    "colab": {
     "base_uri": "https://localhost:8080/",
     "height": 1000
    },
    "id": "voFY8UEJddzO",
    "outputId": "17db41b2-78b4-4793-d092-f0103a6ca3fb",
    "scrolled": true
   },
   "outputs": [],
   "source": [
    "dfextended = pd.DataFrame()\n",
    "\n",
    "for i in prob_freq.index:\n",
    "    setting = {\"id\": ids[ids == i]}\n",
    "    size = len(ids[ids == i])\n",
    "    \n",
    "    if size <= 0:\n",
    "        continue\n",
    "    \n",
    "    for c in num_cols:\n",
    "        try:\n",
    "            min_val = df_summ.iloc[i][f\"{c}_min\"]\n",
    "            max_val = df_summ.iloc[i][f\"{c}_max\"]\n",
    "            media = df_summ.iloc[i][f\"{c}_mean\"]\n",
    "            desv_std = df_summ.iloc[i][f\"{c}_std\"]\n",
    "            setting[c] = trunc_vector(min_val, max_val, media, desv_std, size)\n",
    "        except ValueError as e:\n",
    "            continue\n",
    "    \n",
    "    tmp = pd.DataFrame(setting)\n",
    "    dfextended = pd.concat([dfextended, tmp], ignore_index=True)"
   ]
  },
  {
   "cell_type": "code",
   "execution_count": 254,
   "id": "khQ5S9XTBqRz",
   "metadata": {
    "id": "khQ5S9XTBqRz"
   },
   "outputs": [
    {
     "data": {
      "text/html": [
       "<div>\n",
       "<style scoped>\n",
       "    .dataframe tbody tr th:only-of-type {\n",
       "        vertical-align: middle;\n",
       "    }\n",
       "\n",
       "    .dataframe tbody tr th {\n",
       "        vertical-align: top;\n",
       "    }\n",
       "\n",
       "    .dataframe thead th {\n",
       "        text-align: right;\n",
       "    }\n",
       "</style>\n",
       "<table border=\"1\" class=\"dataframe\">\n",
       "  <thead>\n",
       "    <tr style=\"text-align: right;\">\n",
       "      <th></th>\n",
       "      <th>id</th>\n",
       "      <th>order</th>\n",
       "      <th>distance</th>\n",
       "      <th>preparation_time_min</th>\n",
       "      <th>experience_years</th>\n",
       "      <th>delivery_time_min</th>\n",
       "    </tr>\n",
       "  </thead>\n",
       "  <tbody>\n",
       "    <tr>\n",
       "      <th>0</th>\n",
       "      <td>0</td>\n",
       "      <td>574.939929</td>\n",
       "      <td>6.807790</td>\n",
       "      <td>17.104385</td>\n",
       "      <td>3.267825</td>\n",
       "      <td>64.632597</td>\n",
       "    </tr>\n",
       "    <tr>\n",
       "      <th>1</th>\n",
       "      <td>0</td>\n",
       "      <td>554.837697</td>\n",
       "      <td>7.286402</td>\n",
       "      <td>22.768253</td>\n",
       "      <td>3.996322</td>\n",
       "      <td>77.154943</td>\n",
       "    </tr>\n",
       "    <tr>\n",
       "      <th>2</th>\n",
       "      <td>0</td>\n",
       "      <td>569.323951</td>\n",
       "      <td>13.649419</td>\n",
       "      <td>21.421660</td>\n",
       "      <td>5.251714</td>\n",
       "      <td>37.682516</td>\n",
       "    </tr>\n",
       "    <tr>\n",
       "      <th>3</th>\n",
       "      <td>0</td>\n",
       "      <td>770.067016</td>\n",
       "      <td>7.629833</td>\n",
       "      <td>16.444533</td>\n",
       "      <td>8.577694</td>\n",
       "      <td>38.182841</td>\n",
       "    </tr>\n",
       "    <tr>\n",
       "      <th>4</th>\n",
       "      <td>0</td>\n",
       "      <td>319.093832</td>\n",
       "      <td>7.772142</td>\n",
       "      <td>18.202811</td>\n",
       "      <td>4.484307</td>\n",
       "      <td>51.700274</td>\n",
       "    </tr>\n",
       "    <tr>\n",
       "      <th>...</th>\n",
       "      <td>...</td>\n",
       "      <td>...</td>\n",
       "      <td>...</td>\n",
       "      <td>...</td>\n",
       "      <td>...</td>\n",
       "      <td>...</td>\n",
       "    </tr>\n",
       "    <tr>\n",
       "      <th>99995</th>\n",
       "      <td>155</td>\n",
       "      <td>628.641352</td>\n",
       "      <td>11.146511</td>\n",
       "      <td>23.413882</td>\n",
       "      <td>3.921032</td>\n",
       "      <td>45.359830</td>\n",
       "    </tr>\n",
       "    <tr>\n",
       "      <th>99996</th>\n",
       "      <td>155</td>\n",
       "      <td>703.691558</td>\n",
       "      <td>5.134533</td>\n",
       "      <td>23.644029</td>\n",
       "      <td>7.118349</td>\n",
       "      <td>67.361393</td>\n",
       "    </tr>\n",
       "    <tr>\n",
       "      <th>99997</th>\n",
       "      <td>155</td>\n",
       "      <td>619.435354</td>\n",
       "      <td>11.005310</td>\n",
       "      <td>23.655471</td>\n",
       "      <td>5.655294</td>\n",
       "      <td>50.166001</td>\n",
       "    </tr>\n",
       "    <tr>\n",
       "      <th>99998</th>\n",
       "      <td>155</td>\n",
       "      <td>758.865923</td>\n",
       "      <td>8.186002</td>\n",
       "      <td>22.002671</td>\n",
       "      <td>7.527567</td>\n",
       "      <td>48.263597</td>\n",
       "    </tr>\n",
       "    <tr>\n",
       "      <th>99999</th>\n",
       "      <td>155</td>\n",
       "      <td>807.617239</td>\n",
       "      <td>15.716604</td>\n",
       "      <td>22.781029</td>\n",
       "      <td>4.787024</td>\n",
       "      <td>47.402263</td>\n",
       "    </tr>\n",
       "  </tbody>\n",
       "</table>\n",
       "<p>100000 rows × 6 columns</p>\n",
       "</div>"
      ],
      "text/plain": [
       "        id       order   distance  preparation_time_min  experience_years  \\\n",
       "0        0  574.939929   6.807790             17.104385          3.267825   \n",
       "1        0  554.837697   7.286402             22.768253          3.996322   \n",
       "2        0  569.323951  13.649419             21.421660          5.251714   \n",
       "3        0  770.067016   7.629833             16.444533          8.577694   \n",
       "4        0  319.093832   7.772142             18.202811          4.484307   \n",
       "...    ...         ...        ...                   ...               ...   \n",
       "99995  155  628.641352  11.146511             23.413882          3.921032   \n",
       "99996  155  703.691558   5.134533             23.644029          7.118349   \n",
       "99997  155  619.435354  11.005310             23.655471          5.655294   \n",
       "99998  155  758.865923   8.186002             22.002671          7.527567   \n",
       "99999  155  807.617239  15.716604             22.781029          4.787024   \n",
       "\n",
       "       delivery_time_min  \n",
       "0              64.632597  \n",
       "1              77.154943  \n",
       "2              37.682516  \n",
       "3              38.182841  \n",
       "4              51.700274  \n",
       "...                  ...  \n",
       "99995          45.359830  \n",
       "99996          67.361393  \n",
       "99997          50.166001  \n",
       "99998          48.263597  \n",
       "99999          47.402263  \n",
       "\n",
       "[100000 rows x 6 columns]"
      ]
     },
     "execution_count": 254,
     "metadata": {},
     "output_type": "execute_result"
    }
   ],
   "source": [
    "dfextended"
   ]
  },
  {
   "cell_type": "code",
   "execution_count": 257,
   "id": "e4e12a22-ac2e-4a49-9d08-29645611cc27",
   "metadata": {},
   "outputs": [
    {
     "name": "stdout",
     "output_type": "stream",
     "text": [
      "Total de filas generadas: 100000\n"
     ]
    }
   ],
   "source": [
    "print(f\"Total de filas generadas: {len(dfextended)}\")"
   ]
  },
  {
   "cell_type": "code",
   "execution_count": 258,
   "id": "bRhq1FsGB3NJ",
   "metadata": {
    "id": "bRhq1FsGB3NJ"
   },
   "outputs": [],
   "source": [
    "prob_freq[\"id\"] = prob_freq.index"
   ]
  },
  {
   "cell_type": "markdown",
   "id": "3734a43f-5977-4ecd-9041-53f64ad7fb14",
   "metadata": {},
   "source": [
    "Realizamos un merge entre prob_freq y dfextended, para poder compararlo con el dataset antiguo"
   ]
  },
  {
   "cell_type": "code",
   "execution_count": 259,
   "id": "Pq9C8x9yCWBO",
   "metadata": {
    "id": "Pq9C8x9yCWBO"
   },
   "outputs": [],
   "source": [
    "final = prob_freq.loc[:, [\"id\"]+ cat_cols].merge(\n",
    "    dfextended,\n",
    "    on=[\"id\"],\n",
    "    how=\"inner\"\n",
    ")"
   ]
  },
  {
   "cell_type": "markdown",
   "id": "554665c6-25c6-46e1-b86c-2c67746391c8",
   "metadata": {},
   "source": [
    "## Primer resumen estadístico que hicimos con el dataset antiguo"
   ]
  },
  {
   "cell_type": "code",
   "execution_count": 280,
   "id": "043acaaf-99bc-4c77-9c02-bb20cae3057c",
   "metadata": {
    "jupyter": {
     "source_hidden": true
    },
    "scrolled": true
   },
   "outputs": [
    {
     "data": {
      "text/html": [
       "<div>\n",
       "<style scoped>\n",
       "    .dataframe tbody tr th:only-of-type {\n",
       "        vertical-align: middle;\n",
       "    }\n",
       "\n",
       "    .dataframe tbody tr th {\n",
       "        vertical-align: top;\n",
       "    }\n",
       "\n",
       "    .dataframe thead th {\n",
       "        text-align: right;\n",
       "    }\n",
       "</style>\n",
       "<table border=\"1\" class=\"dataframe\">\n",
       "  <thead>\n",
       "    <tr style=\"text-align: right;\">\n",
       "      <th></th>\n",
       "      <th>order</th>\n",
       "      <th>distance</th>\n",
       "      <th>preparation_time_min</th>\n",
       "      <th>experience_years</th>\n",
       "      <th>delivery_time_min</th>\n",
       "    </tr>\n",
       "  </thead>\n",
       "  <tbody>\n",
       "    <tr>\n",
       "      <th>count</th>\n",
       "      <td>883.000000</td>\n",
       "      <td>883.000000</td>\n",
       "      <td>883.000000</td>\n",
       "      <td>883.000000</td>\n",
       "      <td>883.000000</td>\n",
       "    </tr>\n",
       "    <tr>\n",
       "      <th>mean</th>\n",
       "      <td>508.109853</td>\n",
       "      <td>10.051586</td>\n",
       "      <td>17.019253</td>\n",
       "      <td>4.639864</td>\n",
       "      <td>56.425821</td>\n",
       "    </tr>\n",
       "    <tr>\n",
       "      <th>std</th>\n",
       "      <td>287.925161</td>\n",
       "      <td>5.688582</td>\n",
       "      <td>7.260201</td>\n",
       "      <td>2.922172</td>\n",
       "      <td>21.568482</td>\n",
       "    </tr>\n",
       "    <tr>\n",
       "      <th>min</th>\n",
       "      <td>1.000000</td>\n",
       "      <td>0.590000</td>\n",
       "      <td>5.000000</td>\n",
       "      <td>0.000000</td>\n",
       "      <td>8.000000</td>\n",
       "    </tr>\n",
       "    <tr>\n",
       "      <th>25%</th>\n",
       "      <td>263.500000</td>\n",
       "      <td>5.130000</td>\n",
       "      <td>11.000000</td>\n",
       "      <td>2.000000</td>\n",
       "      <td>41.000000</td>\n",
       "    </tr>\n",
       "    <tr>\n",
       "      <th>50%</th>\n",
       "      <td>512.000000</td>\n",
       "      <td>10.280000</td>\n",
       "      <td>17.000000</td>\n",
       "      <td>5.000000</td>\n",
       "      <td>55.000000</td>\n",
       "    </tr>\n",
       "    <tr>\n",
       "      <th>75%</th>\n",
       "      <td>758.500000</td>\n",
       "      <td>15.025000</td>\n",
       "      <td>23.000000</td>\n",
       "      <td>7.000000</td>\n",
       "      <td>71.000000</td>\n",
       "    </tr>\n",
       "    <tr>\n",
       "      <th>max</th>\n",
       "      <td>1000.000000</td>\n",
       "      <td>19.990000</td>\n",
       "      <td>29.000000</td>\n",
       "      <td>9.000000</td>\n",
       "      <td>141.000000</td>\n",
       "    </tr>\n",
       "  </tbody>\n",
       "</table>\n",
       "</div>"
      ],
      "text/plain": [
       "             order    distance  preparation_time_min  experience_years  \\\n",
       "count   883.000000  883.000000            883.000000        883.000000   \n",
       "mean    508.109853   10.051586             17.019253          4.639864   \n",
       "std     287.925161    5.688582              7.260201          2.922172   \n",
       "min       1.000000    0.590000              5.000000          0.000000   \n",
       "25%     263.500000    5.130000             11.000000          2.000000   \n",
       "50%     512.000000   10.280000             17.000000          5.000000   \n",
       "75%     758.500000   15.025000             23.000000          7.000000   \n",
       "max    1000.000000   19.990000             29.000000          9.000000   \n",
       "\n",
       "       delivery_time_min  \n",
       "count         883.000000  \n",
       "mean           56.425821  \n",
       "std            21.568482  \n",
       "min             8.000000  \n",
       "25%            41.000000  \n",
       "50%            55.000000  \n",
       "75%            71.000000  \n",
       "max           141.000000  "
      ]
     },
     "execution_count": 280,
     "metadata": {},
     "output_type": "execute_result"
    }
   ],
   "source": [
    "df.describe()"
   ]
  },
  {
   "cell_type": "markdown",
   "id": "4b1d1fe1-fd30-49b6-a65f-c59f3d7654e6",
   "metadata": {},
   "source": [
    "### Registro de muestra"
   ]
  },
  {
   "cell_type": "code",
   "execution_count": 260,
   "id": "70f02c7a-0d02-4425-bf4b-db8a3a23d20b",
   "metadata": {},
   "outputs": [
    {
     "data": {
      "text/plain": [
       "weather                        Clear\n",
       "traffic_level                    Low\n",
       "time_day                       Night\n",
       "vehicle_type                 Scooter\n",
       "delivery_time_min  min            26\n",
       "                   max            36\n",
       "                   mean         30.0\n",
       "                   std      5.291503\n",
       "                   count           3\n",
       "Name: 22, dtype: object"
      ]
     },
     "execution_count": 260,
     "metadata": {},
     "output_type": "execute_result"
    }
   ],
   "source": [
    "df_clean.groupby(\n",
    "    cat_cols, as_index=False\n",
    ").agg({\n",
    "    'delivery_time_min':[\"min\",\"max\",\"mean\",\"std\", \"count\"]\n",
    "}).iloc[22]"
   ]
  },
  {
   "cell_type": "markdown",
   "id": "a1f4ff75-5ea2-4829-9c69-62fcafc8bc6a",
   "metadata": {},
   "source": [
    "### Histogramas del dataset original"
   ]
  },
  {
   "cell_type": "code",
   "execution_count": 283,
   "id": "7d23ba4f-f400-4d53-976c-8b5bb78fc92d",
   "metadata": {},
   "outputs": [
    {
     "data": {
      "image/png": "[encoded data removed]",
      "text/plain": [
       "<Figure size 640x480 with 6 Axes>"
      ]
     },
     "metadata": {},
     "output_type": "display_data"
    }
   ],
   "source": [
    "df.hist()\n",
    "plt.show()"
   ]
  },
  {
   "cell_type": "markdown",
   "id": "77dc3f29-29a0-4d93-8186-c61764730d44",
   "metadata": {},
   "source": [
    "### Histograma de muestra"
   ]
  },
  {
   "cell_type": "code",
   "execution_count": 279,
   "id": "1b85d493-43e7-498c-b5c0-ffd36ef8d783",
   "metadata": {},
   "outputs": [
    {
     "data": {
      "image/png": "[encoded data removed]",
      "text/plain": [
       "<Figure size 640x480 with 1 Axes>"
      ]
     },
     "metadata": {},
     "output_type": "display_data"
    }
   ],
   "source": [
    "df['delivery_time_min'].hist(bins=20)\n",
    "plt.show()\n"
   ]
  },
  {
   "cell_type": "markdown",
   "id": "25e6e94a-522c-4140-8a12-16843689fae2",
   "metadata": {},
   "source": [
    "## Resumen estadístico del dataset extendido"
   ]
  },
  {
   "cell_type": "code",
   "execution_count": 281,
   "id": "cec53454-b196-4150-9566-28c2b2bd3c40",
   "metadata": {
    "scrolled": true
   },
   "outputs": [
    {
     "data": {
      "text/html": [
       "<div>\n",
       "<style scoped>\n",
       "    .dataframe tbody tr th:only-of-type {\n",
       "        vertical-align: middle;\n",
       "    }\n",
       "\n",
       "    .dataframe tbody tr th {\n",
       "        vertical-align: top;\n",
       "    }\n",
       "\n",
       "    .dataframe thead th {\n",
       "        text-align: right;\n",
       "    }\n",
       "</style>\n",
       "<table border=\"1\" class=\"dataframe\">\n",
       "  <thead>\n",
       "    <tr style=\"text-align: right;\">\n",
       "      <th></th>\n",
       "      <th>id</th>\n",
       "      <th>order</th>\n",
       "      <th>distance</th>\n",
       "      <th>preparation_time_min</th>\n",
       "      <th>experience_years</th>\n",
       "      <th>delivery_time_min</th>\n",
       "    </tr>\n",
       "  </thead>\n",
       "  <tbody>\n",
       "    <tr>\n",
       "      <th>count</th>\n",
       "      <td>100000.000000</td>\n",
       "      <td>91253.000000</td>\n",
       "      <td>91253.000000</td>\n",
       "      <td>91023.000000</td>\n",
       "      <td>90139.000000</td>\n",
       "      <td>91253.000000</td>\n",
       "    </tr>\n",
       "    <tr>\n",
       "      <th>mean</th>\n",
       "      <td>56.553340</td>\n",
       "      <td>513.516667</td>\n",
       "      <td>9.917367</td>\n",
       "      <td>16.913391</td>\n",
       "      <td>4.589340</td>\n",
       "      <td>55.058879</td>\n",
       "    </tr>\n",
       "    <tr>\n",
       "      <th>std</th>\n",
       "      <td>44.048498</td>\n",
       "      <td>225.878756</td>\n",
       "      <td>4.305339</td>\n",
       "      <td>5.458203</td>\n",
       "      <td>2.237981</td>\n",
       "      <td>16.541749</td>\n",
       "    </tr>\n",
       "    <tr>\n",
       "      <th>min</th>\n",
       "      <td>0.000000</td>\n",
       "      <td>1.605326</td>\n",
       "      <td>0.605049</td>\n",
       "      <td>5.004976</td>\n",
       "      <td>0.000235</td>\n",
       "      <td>8.213529</td>\n",
       "    </tr>\n",
       "    <tr>\n",
       "      <th>25%</th>\n",
       "      <td>19.000000</td>\n",
       "      <td>341.537894</td>\n",
       "      <td>6.582609</td>\n",
       "      <td>12.679470</td>\n",
       "      <td>2.826457</td>\n",
       "      <td>43.064412</td>\n",
       "    </tr>\n",
       "    <tr>\n",
       "      <th>50%</th>\n",
       "      <td>38.000000</td>\n",
       "      <td>511.767185</td>\n",
       "      <td>9.882825</td>\n",
       "      <td>16.823689</td>\n",
       "      <td>4.596226</td>\n",
       "      <td>54.663237</td>\n",
       "    </tr>\n",
       "    <tr>\n",
       "      <th>75%</th>\n",
       "      <td>91.000000</td>\n",
       "      <td>690.348093</td>\n",
       "      <td>13.093075</td>\n",
       "      <td>20.995488</td>\n",
       "      <td>6.364705</td>\n",
       "      <td>66.307711</td>\n",
       "    </tr>\n",
       "    <tr>\n",
       "      <th>max</th>\n",
       "      <td>155.000000</td>\n",
       "      <td>997.556724</td>\n",
       "      <td>19.985135</td>\n",
       "      <td>28.998285</td>\n",
       "      <td>8.999822</td>\n",
       "      <td>121.613469</td>\n",
       "    </tr>\n",
       "  </tbody>\n",
       "</table>\n",
       "</div>"
      ],
      "text/plain": [
       "                  id         order      distance  preparation_time_min  \\\n",
       "count  100000.000000  91253.000000  91253.000000          91023.000000   \n",
       "mean       56.553340    513.516667      9.917367             16.913391   \n",
       "std        44.048498    225.878756      4.305339              5.458203   \n",
       "min         0.000000      1.605326      0.605049              5.004976   \n",
       "25%        19.000000    341.537894      6.582609             12.679470   \n",
       "50%        38.000000    511.767185      9.882825             16.823689   \n",
       "75%        91.000000    690.348093     13.093075             20.995488   \n",
       "max       155.000000    997.556724     19.985135             28.998285   \n",
       "\n",
       "       experience_years  delivery_time_min  \n",
       "count      90139.000000       91253.000000  \n",
       "mean           4.589340          55.058879  \n",
       "std            2.237981          16.541749  \n",
       "min            0.000235           8.213529  \n",
       "25%            2.826457          43.064412  \n",
       "50%            4.596226          54.663237  \n",
       "75%            6.364705          66.307711  \n",
       "max            8.999822         121.613469  "
      ]
     },
     "execution_count": 281,
     "metadata": {},
     "output_type": "execute_result"
    }
   ],
   "source": [
    "final.describe()"
   ]
  },
  {
   "cell_type": "markdown",
   "id": "7cc56503-293f-4e87-9786-1b4fbc7edf9a",
   "metadata": {},
   "source": [
    "### Registro de muestra"
   ]
  },
  {
   "cell_type": "code",
   "execution_count": 291,
   "id": "3ee825b0-b087-4a36-868b-6648a3cb4620",
   "metadata": {},
   "outputs": [
    {
     "data": {
      "text/plain": [
       "weather                         Clear\n",
       "traffic_level                     Low\n",
       "time_day                        Night\n",
       "vehicle_type                  Scooter\n",
       "delivery_time_min  min       26.01575\n",
       "                   max      35.971311\n",
       "                   mean     30.762349\n",
       "                   std       2.610201\n",
       "                   count          449\n",
       "Name: 22, dtype: object"
      ]
     },
     "execution_count": 291,
     "metadata": {},
     "output_type": "execute_result"
    }
   ],
   "source": [
    "final.groupby(\n",
    "    cat_cols, as_index=False\n",
    ").agg({\n",
    "    'delivery_time_min':[\"min\",\"max\",\"mean\",\"std\", \"count\"]\n",
    "}).iloc[22]"
   ]
  },
  {
   "cell_type": "markdown",
   "id": "06131579-0c9c-476b-87a5-f7aafe42e8fc",
   "metadata": {},
   "source": [
    "### Histograma del dataset extendido"
   ]
  },
  {
   "cell_type": "code",
   "execution_count": 288,
   "id": "47963216-0cea-4217-ba23-17b6ca8adcc5",
   "metadata": {},
   "outputs": [
    {
     "data": {
      "image/png": "[encoded data removed]",
      "text/plain": [
       "<Figure size 640x480 with 6 Axes>"
      ]
     },
     "metadata": {},
     "output_type": "display_data"
    }
   ],
   "source": [
    "final.hist()\n",
    "plt.show()\n"
   ]
  },
  {
   "cell_type": "markdown",
   "id": "abb4427a-edaa-4178-9240-e5ab9358880b",
   "metadata": {},
   "source": [
    "### Histograma de muestra"
   ]
  },
  {
   "cell_type": "code",
   "execution_count": 286,
   "id": "3893ec3d-f7c3-4990-a011-a6b384d7ceb3",
   "metadata": {},
   "outputs": [
    {
     "data": {
      "image/png": "[encoded data removed]",
      "text/plain": [
       "<Figure size 640x480 with 1 Axes>"
      ]
     },
     "metadata": {},
     "output_type": "display_data"
    }
   ],
   "source": [
    "final['delivery_time_min'].hist(bins=20)\n",
    "plt.show()\n"
   ]
  },
  {
   "cell_type": "markdown",
   "id": "50d2c8dd-83f1-400b-acc0-8c830a92f7af",
   "metadata": {},
   "source": [
    "# Conclusiones"
   ]
  },
  {
   "cell_type": "markdown",
   "id": "2c146850-eeda-4817-a6e9-a2985d9196d8",
   "metadata": {},
   "source": [
    "1. Es importante mencionar la importancia de limpiar los datasets antes de expandirlo para ahorrarnos futuros problemas. La influencia de los valores atipicos y valores nulos dentro de un conjunto de información puede generar anormalidades al momento de simular un nuevo conjunto a partir del existente ya que la información se puede ver sesgado por otra que es irrelevante."
   ]
  },
  {
   "cell_type": "markdown",
   "id": "9254b747-60d1-4c4c-98f0-e92dc44874cd",
   "metadata": {},
   "source": [
    "2. Hicimos que el código fuera eficiente y escalable al momento de utilizar funciones para agregar dinamismo a los procedimientos que se debían de ejecutar, registro por registro o subset por subset. Logrando así que el código se vea más limpio y ordenado."
   ]
  },
  {
   "cell_type": "markdown",
   "id": "c6ae4fe3-9b92-4ccc-888b-66becf5c383b",
   "metadata": {},
   "source": [
    "3. Logramos expandir el dataset sin alterar significativamente sus propiedades estadísticas de manera significativa, logrando así realizar la comparación de las propiedades estadísticas tanto del dataset original y el expandido y que estas no varíen."
   ]
  },
  {
   "cell_type": "code",
   "execution_count": null,
   "id": "78760a1e-7109-4012-aa87-7fb906f4e3e2",
   "metadata": {},
   "outputs": [],
   "source": []
  }
 ],
 "metadata": {
  "colab": {
   "provenance": []
  },
  "kernelspec": {
   "display_name": "Python 3 (ipykernel)",
   "language": "python",
   "name": "python3"
  },
  "language_info": {
   "codemirror_mode": {
    "name": "ipython",
    "version": 3
   },
   "file_extension": ".py",
   "mimetype": "text/x-python",
   "name": "python",
   "nbconvert_exporter": "python",
   "pygments_lexer": "ipython3",
   "version": "3.12.7"
  }
 },
 "nbformat": 4,
 "nbformat_minor": 5
}
