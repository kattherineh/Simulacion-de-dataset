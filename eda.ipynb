{
 "cells": [
  {
   "cell_type": "markdown",
   "id": "5a706fa2-9041-4559-9f28-e21a1eedc807",
   "metadata": {},
   "source": [
    "# Proyecto #1 - Curso de Teoría de la Simulación\n",
    "Impartido por Ing. Uayeb Caballero\n",
    "\n",
    "Elaborado por:\n",
    "- Jeimie Vanessa Herrera\n",
    "- Kattherine Mayely Hernandez"
   ]
  },
  {
   "cell_type": "code",
   "execution_count": null,
   "id": "5b871f01-a2e2-4974-add0-6c4dfc7b6e5a",
   "metadata": {},
   "outputs": [],
   "source": []
  }
 ],
 "metadata": {
  "kernelspec": {
   "display_name": "Python 3 (ipykernel)",
   "language": "python",
   "name": "python3"
  },
  "language_info": {
   "codemirror_mode": {
    "name": "ipython",
    "version": 3
   },
   "file_extension": ".py",
   "mimetype": "text/x-python",
   "name": "python",
   "nbconvert_exporter": "python",
   "pygments_lexer": "ipython3",
   "version": "3.12.9"
  }
 },
 "nbformat": 4,
 "nbformat_minor": 5
}
